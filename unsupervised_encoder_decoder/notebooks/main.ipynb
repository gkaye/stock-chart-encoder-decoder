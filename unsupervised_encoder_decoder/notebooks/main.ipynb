{
 "cells": [
  {
   "cell_type": "code",
   "execution_count": 2,
   "metadata": {
    "pycharm": {
     "name": "#%%\n"
    }
   },
   "outputs": [],
   "source": [
    "# Python\n",
    "from datetime import datetime, timedelta\n",
    "import math\n",
    "import time\n",
    "\n",
    "# External\n",
    "import matplotlib.pyplot as plt\n",
    "\n",
    "import plotly.graph_objects as go\n",
    "import plotly\n",
    "\n",
    "import torch\n",
    "\n",
    "# Local\n",
    "from util.data import yahoo"
   ]
  },
  {
   "cell_type": "code",
   "execution_count": 3,
   "metadata": {
    "pycharm": {
     "name": "#%%\n"
    }
   },
   "outputs": [],
   "source": [
    "# Clear cache\n",
    "torch.cuda.empty_cache()"
   ]
  },
  {
   "cell_type": "markdown",
   "metadata": {
    "pycharm": {
     "name": "#%% md\n"
    }
   },
   "source": [
    "## Retrieve Data"
   ]
  },
  {
   "cell_type": "code",
   "execution_count": 4,
   "metadata": {
    "pycharm": {
     "name": "#%%\n"
    }
   },
   "outputs": [],
   "source": [
    "# Global configurations\n",
    "device = 'cuda:0'\n",
    "\n",
    "# Data configurations\n",
    "stocks = ['AAPL', 'GOOG', 'AMZN', 'FB', 'MSFT', 'NFLX', 'UBER',\n",
    "          'NVDA', 'PYPL', 'NOW', 'TTWO', 'VEEV', 'V', 'IBM', 'GS',\n",
    "          'DIS', 'BAC', 'MMM', 'VZ', 'JNJ', 'WMT']\n",
    "interval = '1h'\n",
    "end_date = datetime(2020, 4, 18)\n",
    "time_range = 260\n",
    "num_test_sets = 1\n"
   ]
  },
  {
   "cell_type": "code",
   "execution_count": 5,
   "metadata": {
    "pycharm": {
     "name": "#%%\n"
    }
   },
   "outputs": [
    {
     "name": "stdout",
     "output_type": "stream",
     "text": [
      "Retrieving from 2019-08-02 to 2020-04-18.\n"
     ]
    }
   ],
   "source": [
    "start_date = end_date - timedelta(days=time_range)\n",
    "end_date_formatted = end_date.strftime(\"%Y-%m-%d\")\n",
    "start_date_formatted = start_date.strftime(\"%Y-%m-%d\")\n",
    "\n",
    "print(f'Retrieving from {start_date_formatted} to {end_date_formatted}.')\n"
   ]
  },
  {
   "cell_type": "code",
   "execution_count": 6,
   "metadata": {
    "pycharm": {
     "name": "#%%\n"
    }
   },
   "outputs": [
    {
     "name": "stdout",
     "output_type": "stream",
     "text": [
      "../data/AAPL.pkl already downloaded, loading from file...\n",
      "../data/GOOG.pkl already downloaded, loading from file...\n",
      "../data/AMZN.pkl already downloaded, loading from file...\n",
      "../data/FB.pkl already downloaded, loading from file...\n",
      "../data/MSFT.pkl already downloaded, loading from file...\n",
      "../data/NFLX.pkl already downloaded, loading from file...\n",
      "../data/UBER.pkl already downloaded, loading from file...\n",
      "../data/NVDA.pkl already downloaded, loading from file...\n",
      "../data/PYPL.pkl already downloaded, loading from file...\n",
      "../data/NOW.pkl already downloaded, loading from file...\n",
      "../data/TTWO.pkl already downloaded, loading from file...\n",
      "../data/VEEV.pkl already downloaded, loading from file...\n",
      "../data/V.pkl already downloaded, loading from file...\n",
      "../data/IBM.pkl already downloaded, loading from file...\n",
      "../data/GS.pkl already downloaded, loading from file...\n",
      "../data/DIS.pkl already downloaded, loading from file...\n",
      "../data/BAC.pkl already downloaded, loading from file...\n",
      "../data/MMM.pkl already downloaded, loading from file...\n",
      "../data/VZ.pkl already downloaded, loading from file...\n",
      "../data/JNJ.pkl already downloaded, loading from file...\n",
      "../data/WMT.pkl already downloaded, loading from file...\n"
     ]
    }
   ],
   "source": [
    "# Download stock data\n",
    "raw_stock_datas = yahoo.download_stocks(stocks,start_date_formatted,end_date_formatted,interval, '../data')"
   ]
  },
  {
   "cell_type": "code",
   "execution_count": 7,
   "metadata": {
    "pycharm": {
     "name": "#%%\n"
    }
   },
   "outputs": [
    {
     "name": "stdout",
     "output_type": "stream",
     "text": [
      "Data has shape of 1247 rows by 6 columns.\n"
     ]
    },
    {
     "data": {
      "text/html": [
       "<div>\n",
       "<style scoped>\n",
       "    .dataframe tbody tr th:only-of-type {\n",
       "        vertical-align: middle;\n",
       "    }\n",
       "\n",
       "    .dataframe tbody tr th {\n",
       "        vertical-align: top;\n",
       "    }\n",
       "\n",
       "    .dataframe thead th {\n",
       "        text-align: right;\n",
       "    }\n",
       "</style>\n",
       "<table border=\"1\" class=\"dataframe\">\n",
       "  <thead>\n",
       "    <tr style=\"text-align: right;\">\n",
       "      <th></th>\n",
       "      <th>Open</th>\n",
       "      <th>High</th>\n",
       "      <th>Low</th>\n",
       "      <th>Close</th>\n",
       "      <th>Adj Close</th>\n",
       "      <th>Volume</th>\n",
       "    </tr>\n",
       "    <tr>\n",
       "      <th>Date</th>\n",
       "      <th></th>\n",
       "      <th></th>\n",
       "      <th></th>\n",
       "      <th></th>\n",
       "      <th></th>\n",
       "      <th></th>\n",
       "    </tr>\n",
       "  </thead>\n",
       "  <tbody>\n",
       "    <tr>\n",
       "      <th>2019-08-02</th>\n",
       "      <td>205.059998</td>\n",
       "      <td>206.429993</td>\n",
       "      <td>203.559998</td>\n",
       "      <td>203.912903</td>\n",
       "      <td>203.912903</td>\n",
       "      <td>11394485</td>\n",
       "    </tr>\n",
       "    <tr>\n",
       "      <th>2019-08-02</th>\n",
       "      <td>203.910004</td>\n",
       "      <td>203.910004</td>\n",
       "      <td>201.630005</td>\n",
       "      <td>202.949997</td>\n",
       "      <td>202.949997</td>\n",
       "      <td>7416054</td>\n",
       "    </tr>\n",
       "    <tr>\n",
       "      <th>2019-08-02</th>\n",
       "      <td>202.949997</td>\n",
       "      <td>204.619995</td>\n",
       "      <td>202.419998</td>\n",
       "      <td>204.339996</td>\n",
       "      <td>204.339996</td>\n",
       "      <td>4333103</td>\n",
       "    </tr>\n",
       "    <tr>\n",
       "      <th>2019-08-02</th>\n",
       "      <td>204.309998</td>\n",
       "      <td>204.440002</td>\n",
       "      <td>203.039993</td>\n",
       "      <td>203.289993</td>\n",
       "      <td>203.289993</td>\n",
       "      <td>3273669</td>\n",
       "    </tr>\n",
       "    <tr>\n",
       "      <th>2019-08-02</th>\n",
       "      <td>203.294998</td>\n",
       "      <td>204.479996</td>\n",
       "      <td>202.710007</td>\n",
       "      <td>204.070099</td>\n",
       "      <td>204.070099</td>\n",
       "      <td>2948244</td>\n",
       "    </tr>\n",
       "  </tbody>\n",
       "</table>\n",
       "</div>"
      ],
      "text/plain": [
       "                  Open        High         Low       Close   Adj Close  \\\n",
       "Date                                                                     \n",
       "2019-08-02  205.059998  206.429993  203.559998  203.912903  203.912903   \n",
       "2019-08-02  203.910004  203.910004  201.630005  202.949997  202.949997   \n",
       "2019-08-02  202.949997  204.619995  202.419998  204.339996  204.339996   \n",
       "2019-08-02  204.309998  204.440002  203.039993  203.289993  203.289993   \n",
       "2019-08-02  203.294998  204.479996  202.710007  204.070099  204.070099   \n",
       "\n",
       "              Volume  \n",
       "Date                  \n",
       "2019-08-02  11394485  \n",
       "2019-08-02   7416054  \n",
       "2019-08-02   4333103  \n",
       "2019-08-02   3273669  \n",
       "2019-08-02   2948244  "
      ]
     },
     "execution_count": 7,
     "metadata": {},
     "output_type": "execute_result"
    }
   ],
   "source": [
    "# Explore data\n",
    "print(\"Data has shape of %s rows by %s columns.\" % raw_stock_datas[0].shape)\n",
    "raw_stock_datas[0].head()"
   ]
  },
  {
   "cell_type": "markdown",
   "metadata": {},
   "source": [
    "## Massage Data"
   ]
  },
  {
   "cell_type": "code",
   "execution_count": 8,
   "metadata": {
    "pycharm": {
     "name": "#%%\n"
    }
   },
   "outputs": [],
   "source": [
    "# Downselect to only the columns we need\n",
    "columns = ['Open', 'High', 'Low', 'Close', 'Volume']\n",
    "\n",
    "yahoo.downselect_columns(raw_stock_datas, columns)"
   ]
  },
  {
   "cell_type": "code",
   "execution_count": 9,
   "metadata": {
    "pycharm": {
     "name": "#%%\n"
    }
   },
   "outputs": [
    {
     "data": {
      "text/plain": [
       "Index(['Open', 'High', 'Low', 'Close', 'Volume'], dtype='object')"
      ]
     },
     "execution_count": 9,
     "metadata": {},
     "output_type": "execute_result"
    }
   ],
   "source": [
    "# Verify downselection of columns\n",
    "raw_stock_datas[0].columns"
   ]
  },
  {
   "cell_type": "code",
   "execution_count": 10,
   "metadata": {
    "pycharm": {
     "name": "#%%\n"
    }
   },
   "outputs": [],
   "source": [
    "# Generate list of tensors from list of pandas dataframes\n",
    "stock_data_tensors = yahoo.generate_tensors(raw_stock_datas)"
   ]
  },
  {
   "cell_type": "code",
   "execution_count": 11,
   "metadata": {
    "pycharm": {
     "name": "#%%\n"
    }
   },
   "outputs": [
    {
     "name": "stdout",
     "output_type": "stream",
     "text": [
      "training_tensors contains   19 stocks\n",
      "testing_tensors  contains    2 stocks\n"
     ]
    }
   ],
   "source": [
    "# Split data into training and testing sets\n",
    "training_tensors = stock_data_tensors[2:]\n",
    "testing_tensors = stock_data_tensors[:2]\n",
    "\n",
    "print(f'training_tensors contains {len(training_tensors):4} stocks')\n",
    "print(f'testing_tensors  contains {len(testing_tensors):4} stocks')"
   ]
  },
  {
   "cell_type": "code",
   "execution_count": 12,
   "metadata": {
    "pycharm": {
     "name": "#%%\n"
    }
   },
   "outputs": [],
   "source": [
    "# Generate chunks of tensors for training\n",
    "# Note that we generate chunks AFTER splitting into training and testing sets so that these sets\n",
    "# contain unique stocks\n",
    "chunk_size = 40\n",
    "training_tensor_chunks = yahoo.multi_generate_chunks(training_tensors, chunk_size)\n",
    "testing_tensor_chunks = yahoo.multi_generate_chunks(testing_tensors, chunk_size)"
   ]
  },
  {
   "cell_type": "code",
   "execution_count": 13,
   "metadata": {
    "pycharm": {
     "name": "#%%\n"
    }
   },
   "outputs": [
    {
     "data": {
      "image/png": "[encoded data removed]",
      "text/plain": [
       "<Figure size 432x288 with 1 Axes>"
      ]
     },
     "metadata": {
      "needs_background": "light"
     },
     "output_type": "display_data"
    }
   ],
   "source": [
    "plt.plot(training_tensor_chunks[0][:, 3])\n",
    "plt.show()"
   ]
  },
  {
   "cell_type": "code",
   "execution_count": 14,
   "metadata": {
    "pycharm": {
     "name": "#%%\n"
    }
   },
   "outputs": [
    {
     "name": "stdout",
     "output_type": "stream",
     "text": [
      "First tensor pre-normalization:\n",
      "tensor([1825.0000, 1815.4600, 1825.3800, 1814.4850, 1815.3000, 1817.3000,\n",
      "        1823.0000, 1780.9716, 1777.0100, 1773.6301, 1768.7069, 1752.5400,\n",
      "        1757.1801, 1765.3101, 1774.1917, 1763.0823, 1757.8300, 1772.6500,\n",
      "        1791.3719, 1784.9900, 1787.4500, 1770.7574, 1772.5000, 1763.1000,\n",
      "        1768.6801, 1782.4998, 1792.5200, 1793.5900, 1813.9301, 1819.0800,\n",
      "        1824.6699, 1823.4474, 1826.8500, 1826.1500, 1832.9399, 1812.7330,\n",
      "        1805.5200, 1804.0699, 1815.6497, 1814.1744])\n",
      "\n",
      "First tensor post-normalization:\n",
      "tensor([0.7811, 0.6833, 0.7850, 0.6733, 0.6817, 0.7022, 0.7606, 0.3299, 0.2893,\n",
      "        0.2547, 0.2042, 0.0385, 0.0861, 0.1694, 0.2604, 0.1466, 0.0927, 0.2446,\n",
      "        0.4365, 0.3711, 0.3963, 0.2252, 0.2431, 0.1467, 0.2039, 0.3455, 0.4482,\n",
      "        0.4592, 0.6676, 0.7204, 0.7777, 0.7652, 0.8000, 0.7929, 0.8624, 0.6554,\n",
      "        0.5815, 0.5666, 0.6853, 0.6701])\n"
     ]
    },
    {
     "data": {
      "image/png": "[encoded data removed]",
      "text/plain": [
       "<Figure size 432x288 with 1 Axes>"
      ]
     },
     "metadata": {
      "needs_background": "light"
     },
     "output_type": "display_data"
    },
    {
     "data": {
      "image/png": "[encoded data removed]",
      "text/plain": [
       "<Figure size 432x288 with 1 Axes>"
      ]
     },
     "metadata": {},
     "output_type": "display_data"
    }
   ],
   "source": [
    "# Normalize each chunk in between 0 and 1\n",
    "\n",
    "# Display before\n",
    "chunk_idx = 0\n",
    "ohlcv_idx = 3\n",
    "print('First tensor pre-normalization:')\n",
    "print(training_tensor_chunks[chunk_idx][:, ohlcv_idx])\n",
    "\n",
    "plt.plot(training_tensor_chunks[chunk_idx][:, ohlcv_idx])\n",
    "plt.title(\"First Tensor Pre-Normalization\")\n",
    "plt.rcParams['figure.facecolor'] = 'gray'\n",
    "\n",
    "plt.show()\n",
    "\n",
    "print()\n",
    "\n",
    "\n",
    "# Normalize\n",
    "yahoo.multi_normalize_tensors(training_tensor_chunks)\n",
    "yahoo.multi_normalize_tensors(testing_tensor_chunks)\n",
    "\n",
    "\n",
    "# Display after\n",
    "print('First tensor post-normalization:')\n",
    "print(training_tensor_chunks[chunk_idx][:, ohlcv_idx])\n",
    "\n",
    "plt.plot(training_tensor_chunks[chunk_idx][:, ohlcv_idx])\n",
    "plt.title(\"First Tensor Post-Normalization\")\n",
    "plt.rcParams['figure.facecolor'] = 'gray'\n",
    "\n",
    "plt.show()"
   ]
  },
  {
   "cell_type": "code",
   "execution_count": 15,
   "metadata": {
    "pycharm": {
     "name": "#%%\n"
    }
   },
   "outputs": [],
   "source": [
    "# Model dataset\n",
    "\n",
    "class UnsupervisedDataset(torch.utils.data.Dataset):\n",
    "    def __init__(self, data_chunks):\n",
    "        self.data_chunks = data_chunks\n",
    "\n",
    "    def __len__(self):\n",
    "        return len(self.data_chunks)\n",
    "\n",
    "    def __getitem__(self, index):\n",
    "        return self.data_chunks[index]"
   ]
  },
  {
   "cell_type": "code",
   "execution_count": 16,
   "metadata": {
    "pycharm": {
     "name": "#%%\n"
    }
   },
   "outputs": [],
   "source": [
    "# create datasets\n",
    "\n",
    "training_dataset = UnsupervisedDataset(training_tensor_chunks)\n",
    "testing_dataset = UnsupervisedDataset(testing_tensor_chunks)"
   ]
  },
  {
   "cell_type": "code",
   "execution_count": 17,
   "metadata": {
    "pycharm": {
     "name": "#%%\n"
    }
   },
   "outputs": [],
   "source": [
    "params = {'batch_size': 256,\n",
    "          'shuffle': True,\n",
    "          'num_workers': 0}\n",
    "\n",
    "training_generator = torch.utils.data.DataLoader(training_dataset, **params)\n",
    "testing_generator = torch.utils.data.DataLoader(testing_dataset, **params)\n"
   ]
  },
  {
   "cell_type": "markdown",
   "metadata": {
    "pycharm": {
     "name": "#%% md\n"
    }
   },
   "source": [
    "## Create Models"
   ]
  },
  {
   "cell_type": "code",
   "execution_count": 18,
   "metadata": {
    "pycharm": {
     "name": "#%%\n"
    }
   },
   "outputs": [],
   "source": [
    "# Deduce input size from data\n",
    "sample_idx = 0\n",
    "\n",
    "chunk = training_tensor_chunks[sample_idx]\n",
    "input_size = len(chunk.flatten())"
   ]
  },
  {
   "cell_type": "code",
   "execution_count": 19,
   "metadata": {
    "pycharm": {
     "name": "#%%\n"
    }
   },
   "outputs": [
    {
     "name": "stdout",
     "output_type": "stream",
     "text": [
      "105\n"
     ]
    }
   ],
   "source": [
    "# Configure model below:\n",
    "compression_ratio = 0.05\n",
    "compression_size = math.ceil(input_size * compression_ratio)\n",
    "\n",
    "# Encoder configurations\n",
    "encoder_hidden_layer_size = math.ceil((input_size + compression_size) / 2.)\n",
    "encoder_num_hidden_layers = 4\n",
    "encoder_dropout = 0.\n",
    "\n",
    "# Decoder configurations\n",
    "decoder_hidden_layer_size = encoder_hidden_layer_size\n",
    "decoder_num_hidden_layers = encoder_num_hidden_layers\n",
    "decoder_dropout = encoder_dropout\n",
    "\n",
    "print(encoder_hidden_layer_size)"
   ]
  },
  {
   "cell_type": "code",
   "execution_count": 20,
   "metadata": {
    "pycharm": {
     "name": "#%%\n"
    }
   },
   "outputs": [],
   "source": [
    "from util.torch.MLP import MLP\n",
    "\n",
    "encoder = MLP(input_size, encoder_hidden_layer_size,\n",
    "              compression_size, encoder_num_hidden_layers, encoder_dropout)\n",
    "decoder = MLP(compression_size, decoder_hidden_layer_size,\n",
    "              input_size, decoder_num_hidden_layers, decoder_dropout)\n",
    "\n",
    "# Move to the desired device\n",
    "encoder = encoder.to(device=device)\n",
    "decoder = decoder.to(device=device)\n"
   ]
  },
  {
   "cell_type": "markdown",
   "metadata": {
    "pycharm": {
     "name": "#%% md\n"
    }
   },
   "source": [
    "## Execute Training"
   ]
  },
  {
   "cell_type": "code",
   "execution_count": 21,
   "metadata": {
    "pycharm": {
     "name": "#%%\n"
    }
   },
   "outputs": [],
   "source": [
    "# Configure training Parameters\n",
    "num_epochs = 100\n",
    "num_training_batches = 24\n",
    "learning_rate = 5e-3\n"
   ]
  },
  {
   "cell_type": "code",
   "execution_count": 22,
   "metadata": {
    "pycharm": {
     "name": "#%%\n"
    }
   },
   "outputs": [],
   "source": [
    "# Set up optimizer and loss functions\n",
    "optimizer = torch.optim.Adam(list(encoder.parameters()) + list(decoder.parameters()),\n",
    "                             lr=learning_rate)\n",
    "loss_function = torch.nn.MSELoss()\n"
   ]
  },
  {
   "cell_type": "code",
   "execution_count": 23,
   "metadata": {
    "pycharm": {
     "name": "#%%\n"
    }
   },
   "outputs": [
    {
     "name": "stdout",
     "output_type": "stream",
     "text": [
      "Starting...\n",
      "Processing epoch # 0 ...\n",
      "  End epoch:    0\n",
      "    Time elapsed: 4.176242113113403 sec\n",
      "    Training average loss: 0.04280107201387485\n",
      "    Testing average loss:  0.027357444912195206\n",
      "Processing epoch # 1 ...\n",
      "  End epoch:    1\n",
      "    Time elapsed: 1.7299959659576416 sec\n",
      "    Training average loss: 0.024052299227979447\n",
      "    Testing average loss:  0.02218914870172739\n",
      "Processing epoch # 2 ...\n",
      "  End epoch:    2\n",
      "    Time elapsed: 1.5579965114593506 sec\n",
      "    Training average loss: 0.022892029749022588\n",
      "    Testing average loss:  0.022003901563584803\n",
      "Processing epoch # 3 ...\n",
      "  End epoch:    3\n",
      "    Time elapsed: 1.6189987659454346 sec\n",
      "    Training average loss: 0.021464105861054527\n",
      "    Testing average loss:  0.019256023317575456\n",
      "Processing epoch # 4 ...\n",
      "  End epoch:    4\n",
      "    Time elapsed: 1.7119994163513184 sec\n",
      "    Training average loss: 0.02028327602893114\n",
      "    Testing average loss:  0.01891141589730978\n",
      "Processing epoch # 5 ...\n",
      "  End epoch:    5\n",
      "    Time elapsed: 1.6839966773986816 sec\n",
      "    Training average loss: 0.01956204836153322\n",
      "    Testing average loss:  0.018829650618135928\n",
      "Processing epoch # 6 ...\n",
      "  End epoch:    6\n",
      "    Time elapsed: 1.6169986724853516 sec\n",
      "    Training average loss: 0.019104960954023732\n",
      "    Testing average loss:  0.017679300904273988\n",
      "Processing epoch # 7 ...\n",
      "  End epoch:    7\n",
      "    Time elapsed: 1.6599984169006348 sec\n",
      "    Training average loss: 0.01812349110841751\n",
      "    Testing average loss:  0.016113571636378766\n",
      "Processing epoch # 8 ...\n",
      "  End epoch:    8\n",
      "    Time elapsed: 1.9839963912963867 sec\n",
      "    Training average loss: 0.017406336156030495\n",
      "    Testing average loss:  0.015321166068315507\n",
      "Processing epoch # 9 ...\n",
      "  End epoch:    9\n",
      "    Time elapsed: 2.021995782852173 sec\n",
      "    Training average loss: 0.016822240336073768\n",
      "    Testing average loss:  0.015616127569228411\n",
      "Processing epoch # 10 ...\n",
      "  End epoch:   10\n",
      "    Time elapsed: 2.183000087738037 sec\n",
      "    Training average loss: 0.01628081487077806\n",
      "    Testing average loss:  0.015583318751305341\n",
      "Processing epoch # 11 ...\n",
      "  End epoch:   11\n",
      "    Time elapsed: 1.8099970817565918 sec\n",
      "    Training average loss: 0.015787754839079248\n",
      "    Testing average loss:  0.01406716825440526\n",
      "Processing epoch # 12 ...\n",
      "  End epoch:   12\n",
      "    Time elapsed: 1.6799993515014648 sec\n",
      "    Training average loss: 0.0153510388918221\n",
      "    Testing average loss:  0.013433964923024178\n",
      "Processing epoch # 13 ...\n",
      "  End epoch:   13\n",
      "    Time elapsed: 1.415999174118042 sec\n",
      "    Training average loss: 0.014378632894820637\n",
      "    Testing average loss:  0.013265518099069595\n",
      "Processing epoch # 14 ...\n",
      "  End epoch:   14\n",
      "    Time elapsed: 1.4910001754760742 sec\n",
      "    Training average loss: 0.01354085634359055\n",
      "    Testing average loss:  0.011994302365928888\n",
      "Processing epoch # 15 ...\n",
      "  End epoch:   15\n",
      "    Time elapsed: 1.5190010070800781 sec\n",
      "    Training average loss: 0.012565332123388846\n",
      "    Testing average loss:  0.011129551939666272\n",
      "Processing epoch # 16 ...\n",
      "  End epoch:   16\n",
      "    Time elapsed: 1.505997896194458 sec\n",
      "    Training average loss: 0.012157930061221123\n",
      "    Testing average loss:  0.010169613920152188\n",
      "Processing epoch # 17 ...\n",
      "  End epoch:   17\n",
      "    Time elapsed: 1.541001558303833 sec\n",
      "    Training average loss: 0.011981413658294414\n",
      "    Testing average loss:  0.01067641731351614\n",
      "Processing epoch # 18 ...\n",
      "  End epoch:   18\n",
      "    Time elapsed: 1.6059963703155518 sec\n",
      "    Training average loss: 0.011813285139699778\n",
      "    Testing average loss:  0.010104911867529154\n",
      "Processing epoch # 19 ...\n",
      "  End epoch:   19\n",
      "    Time elapsed: 1.6539995670318604 sec\n",
      "    Training average loss: 0.011629980005737808\n",
      "    Testing average loss:  0.010735522955656052\n",
      "Processing epoch # 20 ...\n",
      "  End epoch:   20\n",
      "    Time elapsed: 1.611999750137329 sec\n",
      "    Training average loss: 0.011557471938431263\n",
      "    Testing average loss:  0.010224995668977499\n",
      "Processing epoch # 21 ...\n",
      "  End epoch:   21\n",
      "    Time elapsed: 1.620002031326294 sec\n",
      "    Training average loss: 0.011415043576724\n",
      "    Testing average loss:  0.009730770159512759\n",
      "Processing epoch # 22 ...\n",
      "  End epoch:   22\n",
      "    Time elapsed: 1.8679983615875244 sec\n",
      "    Training average loss: 0.011231974088069465\n",
      "    Testing average loss:  0.009765634778887033\n",
      "Processing epoch # 23 ...\n",
      "  End epoch:   23\n",
      "    Time elapsed: 1.9380009174346924 sec\n",
      "    Training average loss: 0.011201387302329143\n",
      "    Testing average loss:  0.010018897987902165\n",
      "Processing epoch # 24 ...\n",
      "  End epoch:   24\n",
      "    Time elapsed: 1.9089999198913574 sec\n",
      "    Training average loss: 0.011199607513844967\n",
      "    Testing average loss:  0.010054321307688952\n",
      "Processing epoch # 25 ...\n",
      "  End epoch:   25\n",
      "    Time elapsed: 1.9340002536773682 sec\n",
      "    Training average loss: 0.011188497953116893\n",
      "    Testing average loss:  0.011133521422743797\n",
      "Processing epoch # 26 ...\n",
      "  End epoch:   26\n",
      "    Time elapsed: 1.674001932144165 sec\n",
      "    Training average loss: 0.011078792624175549\n",
      "    Testing average loss:  0.009911529999226332\n",
      "Processing epoch # 27 ...\n",
      "  End epoch:   27\n",
      "    Time elapsed: 1.4969983100891113 sec\n",
      "    Training average loss: 0.011006590030673478\n",
      "    Testing average loss:  0.009482317510992289\n",
      "Processing epoch # 28 ...\n",
      "  End epoch:   28\n",
      "    Time elapsed: 1.501000165939331 sec\n",
      "    Training average loss: 0.010918064932856296\n",
      "    Testing average loss:  0.00969547377899289\n",
      "Processing epoch # 29 ...\n",
      "  End epoch:   29\n",
      "    Time elapsed: 1.4899969100952148 sec\n",
      "    Training average loss: 0.010902449002282487\n",
      "    Testing average loss:  0.009484103042632341\n",
      "Processing epoch # 30 ...\n",
      "  End epoch:   30\n",
      "    Time elapsed: 1.5159964561462402 sec\n",
      "    Training average loss: 0.010814265979246961\n",
      "    Testing average loss:  0.00934380730614066\n",
      "Processing epoch # 31 ...\n",
      "  End epoch:   31\n",
      "    Time elapsed: 1.5390007495880127 sec\n",
      "    Training average loss: 0.010886194556951523\n",
      "    Testing average loss:  0.00953445052728057\n",
      "Processing epoch # 32 ...\n",
      "  End epoch:   32\n",
      "    Time elapsed: 1.656999111175537 sec\n",
      "    Training average loss: 0.010819782440861066\n",
      "    Testing average loss:  0.009510382637381553\n",
      "Processing epoch # 33 ...\n",
      "  End epoch:   33\n",
      "    Time elapsed: 1.587000846862793 sec\n",
      "    Training average loss: 0.010786935614628925\n",
      "    Testing average loss:  0.00996553460136056\n",
      "Processing epoch # 34 ...\n",
      "  End epoch:   34\n",
      "    Time elapsed: 1.7100014686584473 sec\n",
      "    Training average loss: 0.010708887254198392\n",
      "    Testing average loss:  0.009429859090596437\n",
      "Processing epoch # 35 ...\n",
      "  End epoch:   35\n",
      "    Time elapsed: 1.7070002555847168 sec\n",
      "    Training average loss: 0.01068935694379939\n",
      "    Testing average loss:  0.009408508334308863\n",
      "Processing epoch # 36 ...\n",
      "  End epoch:   36\n",
      "    Time elapsed: 1.7330009937286377 sec\n",
      "    Training average loss: 0.01059972820803523\n",
      "    Testing average loss:  0.009227525629103183\n",
      "Processing epoch # 37 ...\n",
      "  End epoch:   37\n",
      "    Time elapsed: 1.8602652549743652 sec\n",
      "    Training average loss: 0.010693163517862559\n",
      "    Testing average loss:  0.009329600725322962\n",
      "Processing epoch # 38 ...\n",
      "  End epoch:   38\n",
      "    Time elapsed: 1.9839990139007568 sec\n",
      "    Training average loss: 0.01066913390532136\n",
      "    Testing average loss:  0.009697672724723817\n",
      "Processing epoch # 39 ...\n",
      "  End epoch:   39\n",
      "    Time elapsed: 1.984997034072876 sec\n",
      "    Training average loss: 0.010686458233329985\n",
      "    Testing average loss:  0.009157708380371332\n",
      "Processing epoch # 40 ...\n",
      "  End epoch:   40\n",
      "    Time elapsed: 1.9810004234313965 sec\n",
      "    Training average loss: 0.010450586749033795\n",
      "    Testing average loss:  0.008984740357846022\n",
      "Processing epoch # 41 ...\n",
      "  End epoch:   41\n",
      "    Time elapsed: 1.5730011463165283 sec\n",
      "    Training average loss: 0.010402294838180145\n",
      "    Testing average loss:  0.009142709989100694\n",
      "Processing epoch # 42 ...\n",
      "  End epoch:   42\n",
      "    Time elapsed: 1.5129990577697754 sec\n",
      "    Training average loss: 0.01016624215990305\n",
      "    Testing average loss:  0.008715894259512424\n",
      "Processing epoch # 43 ...\n",
      "  End epoch:   43\n",
      "    Time elapsed: 1.511998176574707 sec\n",
      "    Training average loss: 0.010030108866178326\n",
      "    Testing average loss:  0.0086406871676445\n",
      "Processing epoch # 44 ...\n",
      "  End epoch:   44\n",
      "    Time elapsed: 1.509998083114624 sec\n",
      "    Training average loss: 0.009955501401176054\n",
      "    Testing average loss:  0.009341967571526767\n",
      "Processing epoch # 45 ...\n",
      "  End epoch:   45\n",
      "    Time elapsed: 1.5670008659362793 sec\n",
      "    Training average loss: 0.009910308300620979\n",
      "    Testing average loss:  0.0085263442248106\n",
      "Processing epoch # 46 ...\n",
      "  End epoch:   46\n",
      "    Time elapsed: 1.5460002422332764 sec\n",
      "    Training average loss: 0.009835749533441332\n",
      "    Testing average loss:  0.008189114090055228\n",
      "Processing epoch # 47 ...\n",
      "  End epoch:   47\n",
      "    Time elapsed: 1.5589969158172607 sec\n",
      "    Training average loss: 0.009767406930526098\n",
      "    Testing average loss:  0.008187102619558573\n",
      "Processing epoch # 48 ...\n",
      "  End epoch:   48\n",
      "    Time elapsed: 1.5369963645935059 sec\n",
      "    Training average loss: 0.009803845340179073\n",
      "    Testing average loss:  0.008273349050432444\n",
      "Processing epoch # 49 ...\n",
      "  End epoch:   49\n",
      "    Time elapsed: 1.6439993381500244 sec\n",
      "    Training average loss: 0.009568757574177451\n",
      "    Testing average loss:  0.008201291877776384\n",
      "Processing epoch # 50 ...\n",
      "  End epoch:   50\n",
      "    Time elapsed: 1.7619986534118652 sec\n",
      "    Training average loss: 0.009461368982576662\n",
      "    Testing average loss:  0.00821033464744687\n",
      "Processing epoch # 51 ...\n",
      "  End epoch:   51\n",
      "    Time elapsed: 1.7390005588531494 sec\n",
      "    Training average loss: 0.009460179259379704\n",
      "    Testing average loss:  0.008003010926768184\n",
      "Processing epoch # 52 ...\n",
      "  End epoch:   52\n",
      "    Time elapsed: 2.077085256576538 sec\n",
      "    Training average loss: 0.009504618619879087\n",
      "    Testing average loss:  0.008022739831358195\n",
      "Processing epoch # 53 ...\n",
      "  End epoch:   53\n",
      "    Time elapsed: 2.024618625640869 sec\n",
      "    Training average loss: 0.009445772237247891\n",
      "    Testing average loss:  0.008001415990293026\n",
      "Processing epoch # 54 ...\n",
      "  End epoch:   54\n",
      "    Time elapsed: 2.0684800148010254 sec\n",
      "    Training average loss: 0.009408612828701734\n",
      "    Testing average loss:  0.008061428181827068\n",
      "Processing epoch # 55 ...\n",
      "  End epoch:   55\n",
      "    Time elapsed: 1.8040010929107666 sec\n",
      "    Training average loss: 0.009399229960723055\n",
      "    Testing average loss:  0.007798532210290432\n",
      "Processing epoch # 56 ...\n",
      "  End epoch:   56\n",
      "    Time elapsed: 1.5549993515014648 sec\n",
      "    Training average loss: 0.009281574945069022\n",
      "    Testing average loss:  0.00837287874892354\n",
      "Processing epoch # 57 ...\n",
      "  End epoch:   57\n",
      "    Time elapsed: 1.5089998245239258 sec\n",
      "    Training average loss: 0.009374966337862943\n",
      "    Testing average loss:  0.007905972097069025\n",
      "Processing epoch # 58 ...\n",
      "  End epoch:   58\n",
      "    Time elapsed: 1.5009992122650146 sec\n",
      "    Training average loss: 0.009306255852182706\n",
      "    Testing average loss:  0.0238642705604434\n",
      "Processing epoch # 59 ...\n",
      "  End epoch:   59\n",
      "    Time elapsed: 1.4999995231628418 sec\n",
      "    Training average loss: 0.01064817751240399\n",
      "    Testing average loss:  0.00831254031509161\n",
      "Processing epoch # 60 ...\n",
      "  End epoch:   60\n",
      "    Time elapsed: 1.5109994411468506 sec\n",
      "    Training average loss: 0.00957917036074731\n",
      "    Testing average loss:  0.008340274821966887\n",
      "Processing epoch # 61 ...\n",
      "  End epoch:   61\n",
      "    Time elapsed: 1.5069968700408936 sec\n",
      "    Training average loss: 0.009420721843424771\n",
      "    Testing average loss:  0.008169309282675386\n",
      "Processing epoch # 62 ...\n",
      "  End epoch:   62\n",
      "    Time elapsed: 1.5100007057189941 sec\n",
      "    Training average loss: 0.009336926322430373\n",
      "    Testing average loss:  0.007949153427034616\n",
      "Processing epoch # 63 ...\n",
      "  End epoch:   63\n",
      "    Time elapsed: 1.5909953117370605 sec\n",
      "    Training average loss: 0.009249603582753075\n",
      "    Testing average loss:  0.007809524750337004\n",
      "Processing epoch # 64 ...\n",
      "  End epoch:   64\n",
      "    Time elapsed: 1.6099963188171387 sec\n",
      "    Training average loss: 0.009193258949865897\n",
      "    Testing average loss:  0.007846287358552218\n",
      "Processing epoch # 65 ...\n",
      "  End epoch:   65\n",
      "    Time elapsed: 1.5950002670288086 sec\n",
      "    Training average loss: 0.00916858868052562\n",
      "    Testing average loss:  0.007689923699945212\n",
      "Processing epoch # 66 ...\n",
      "  End epoch:   66\n",
      "    Time elapsed: 1.6290011405944824 sec\n",
      "    Training average loss: 0.009209309694253737\n",
      "    Testing average loss:  0.007847875263541937\n",
      "Processing epoch # 67 ...\n",
      "  End epoch:   67\n",
      "    Time elapsed: 1.965996503829956 sec\n",
      "    Training average loss: 0.009217351840602028\n",
      "    Testing average loss:  0.007727919379249215\n",
      "Processing epoch # 68 ...\n",
      "  End epoch:   68\n",
      "    Time elapsed: 1.871999740600586 sec\n",
      "    Training average loss: 0.009090156170229118\n",
      "    Testing average loss:  0.0077065215446054935\n",
      "Processing epoch # 69 ...\n",
      "  End epoch:   69\n",
      "    Time elapsed: 1.9690024852752686 sec\n",
      "    Training average loss: 0.009158515361034208\n",
      "    Testing average loss:  0.007778431894257665\n",
      "Processing epoch # 70 ...\n",
      "  End epoch:   70\n",
      "    Time elapsed: 1.8610012531280518 sec\n",
      "    Training average loss: 0.009192925194899242\n",
      "    Testing average loss:  0.0076476993504911665\n",
      "Processing epoch # 71 ...\n",
      "  End epoch:   71\n",
      "    Time elapsed: 1.4999983310699463 sec\n",
      "    Training average loss: 0.009128149702317186\n",
      "    Testing average loss:  0.007991958921775223\n",
      "Processing epoch # 72 ...\n",
      "  End epoch:   72\n",
      "    Time elapsed: 1.50600266456604 sec\n",
      "    Training average loss: 0.008958760648965836\n",
      "    Testing average loss:  0.007886757887899876\n",
      "Processing epoch # 73 ...\n",
      "  End epoch:   73\n",
      "    Time elapsed: 1.496999740600586 sec\n",
      "    Training average loss: 0.009096843759632774\n",
      "    Testing average loss:  0.007623684778809548\n",
      "Processing epoch # 74 ...\n",
      "  End epoch:   74\n",
      "    Time elapsed: 1.4949991703033447 sec\n",
      "    Training average loss: 0.009100645821955468\n",
      "    Testing average loss:  0.007774593448266387\n",
      "Processing epoch # 75 ...\n",
      "  End epoch:   75\n",
      "    Time elapsed: 1.5389974117279053 sec\n",
      "    Training average loss: 0.009026074947582351\n",
      "    Testing average loss:  0.007614370435476303\n",
      "Processing epoch # 76 ...\n",
      "  End epoch:   76\n",
      "    Time elapsed: 1.5109994411468506 sec\n",
      "    Training average loss: 0.008954104367229673\n",
      "    Testing average loss:  0.007838467182591558\n",
      "Processing epoch # 77 ...\n",
      "  End epoch:   77\n",
      "    Time elapsed: 1.5049996376037598 sec\n",
      "    Training average loss: 0.008969174708343214\n",
      "    Testing average loss:  0.007782541029155254\n",
      "Processing epoch # 78 ...\n",
      "  End epoch:   78\n",
      "    Time elapsed: 1.5730030536651611 sec\n",
      "    Training average loss: 0.00895366474158234\n",
      "    Testing average loss:  0.007586110755801201\n",
      "Processing epoch # 79 ...\n",
      "  End epoch:   79\n",
      "    Time elapsed: 1.6299998760223389 sec\n",
      "    Training average loss: 0.008920612217237552\n",
      "    Testing average loss:  0.00756954113021493\n",
      "Processing epoch # 80 ...\n",
      "  End epoch:   80\n",
      "    Time elapsed: 1.6279983520507812 sec\n",
      "    Training average loss: 0.009010108684500058\n",
      "    Testing average loss:  0.007722413539886475\n",
      "Processing epoch # 81 ...\n",
      "  End epoch:   81\n",
      "    Time elapsed: 1.6309993267059326 sec\n",
      "    Training average loss: 0.00895993025559518\n",
      "    Testing average loss:  0.00758732482790947\n",
      "Processing epoch # 82 ...\n",
      "  End epoch:   82\n",
      "    Time elapsed: 1.9990005493164062 sec\n",
      "    Training average loss: 0.008892283588647843\n",
      "    Testing average loss:  0.00771878962405026\n",
      "Processing epoch # 83 ...\n",
      "  End epoch:   83\n",
      "    Time elapsed: 2.0099966526031494 sec\n",
      "    Training average loss: 0.008865729077822633\n",
      "    Testing average loss:  0.0075853484682738784\n",
      "Processing epoch # 84 ...\n",
      "  End epoch:   84\n",
      "    Time elapsed: 2.0079967975616455 sec\n",
      "    Training average loss: 0.00887410958401031\n",
      "    Testing average loss:  0.007550878869369626\n",
      "Processing epoch # 85 ...\n",
      "  End epoch:   85\n",
      "    Time elapsed: 1.9130005836486816 sec\n",
      "    Training average loss: 0.008930915056003465\n",
      "    Testing average loss:  0.007705937558785081\n",
      "Processing epoch # 86 ...\n",
      "  End epoch:   86\n",
      "    Time elapsed: 1.5189998149871826 sec\n",
      "    Training average loss: 0.00885636064534386\n",
      "    Testing average loss:  0.007516088616102934\n",
      "Processing epoch # 87 ...\n",
      "  End epoch:   87\n",
      "    Time elapsed: 1.5250017642974854 sec\n",
      "    Training average loss: 0.008841059646672672\n",
      "    Testing average loss:  0.007730701332911849\n",
      "Processing epoch # 88 ...\n",
      "  End epoch:   88\n",
      "    Time elapsed: 1.5130000114440918 sec\n",
      "    Training average loss: 0.008852954922864835\n",
      "    Testing average loss:  0.0076652682852\n",
      "Processing epoch # 89 ...\n",
      "  End epoch:   89\n",
      "    Time elapsed: 1.5100018978118896 sec\n",
      "    Training average loss: 0.008866554953985743\n",
      "    Testing average loss:  0.007689480716362595\n",
      "Processing epoch # 90 ...\n",
      "  End epoch:   90\n",
      "    Time elapsed: 1.5570001602172852 sec\n",
      "    Training average loss: 0.008837829530239105\n",
      "    Testing average loss:  0.007533773360773921\n",
      "Processing epoch # 91 ...\n",
      "  End epoch:   91\n",
      "    Time elapsed: 1.5560004711151123 sec\n",
      "    Training average loss: 0.00886730830081635\n",
      "    Testing average loss:  0.007608112134039402\n",
      "Processing epoch # 92 ...\n",
      "  End epoch:   92\n",
      "    Time elapsed: 1.5049998760223389 sec\n",
      "    Training average loss: 0.008854922062406937\n",
      "    Testing average loss:  0.007681483961641788\n",
      "Processing epoch # 93 ...\n",
      "  End epoch:   93\n",
      "    Time elapsed: 1.589998483657837 sec\n",
      "    Training average loss: 0.008883786035908593\n",
      "    Testing average loss:  0.007446500938385725\n",
      "Processing epoch # 94 ...\n",
      "  End epoch:   94\n",
      "    Time elapsed: 1.712001085281372 sec\n",
      "    Training average loss: 0.008788656091524495\n",
      "    Testing average loss:  0.007568186661228537\n",
      "Processing epoch # 95 ...\n",
      "  End epoch:   95\n",
      "    Time elapsed: 2.0309977531433105 sec\n",
      "    Training average loss: 0.008716141401479641\n",
      "    Testing average loss:  0.007571770856156945\n",
      "Processing epoch # 96 ...\n",
      "  End epoch:   96\n",
      "    Time elapsed: 1.8929994106292725 sec\n",
      "    Training average loss: 0.008732510658188\n",
      "    Testing average loss:  0.007442817697301507\n",
      "Processing epoch # 97 ...\n",
      "  End epoch:   97\n",
      "    Time elapsed: 1.9879980087280273 sec\n",
      "    Training average loss: 0.008809284338106712\n",
      "    Testing average loss:  0.007510668272152543\n",
      "Processing epoch # 98 ...\n",
      "  End epoch:   98\n",
      "    Time elapsed: 2.049997568130493 sec\n",
      "    Training average loss: 0.00878535116919213\n",
      "    Testing average loss:  0.007632476417347789\n",
      "Processing epoch # 99 ...\n",
      "  End epoch:   99\n",
      "    Time elapsed: 2.2090015411376953 sec\n",
      "    Training average loss: 0.008775218596888913\n",
      "    Testing average loss:  0.007492220215499401\n",
      "Complete.\n"
     ]
    }
   ],
   "source": [
    "# Start training\n",
    "print('Starting...')\n",
    "for i in range(num_epochs):\n",
    "    start_time = time.time()\n",
    "    print(f'Processing epoch # {i} ...', flush=True)\n",
    "\n",
    "    # Statistics to collect\n",
    "    training_running_loss = 0.\n",
    "    testing_running_loss = 0.\n",
    "\n",
    "    # Train model with training batch\n",
    "    encoder.train()\n",
    "    decoder.train()\n",
    "    for batch in training_generator:\n",
    "\n",
    "        batch = batch.to(device=device)\n",
    "\n",
    "        optimizer.zero_grad()\n",
    "\n",
    "        # Pass into models\n",
    "        encoded_batch = encoder(batch)\n",
    "        decoded_batch = decoder(encoded_batch)\n",
    "\n",
    "        loss = loss_function(batch, decoded_batch.view_as(batch))\n",
    "        training_running_loss += loss.item()\n",
    "\n",
    "        loss.backward()\n",
    "        optimizer.step()\n",
    "\n",
    "\n",
    "    # Test model with testing batch\n",
    "    encoder.eval()\n",
    "    decoder.eval()\n",
    "    with torch.no_grad():\n",
    "        for batch in testing_generator:\n",
    "\n",
    "            batch = batch.to(device=device)\n",
    "\n",
    "            optimizer.zero_grad()\n",
    "\n",
    "            # Pass into models\n",
    "            encoded_batch = encoder(batch)\n",
    "            decoded_batch = decoder(encoded_batch)\n",
    "\n",
    "            loss = loss_function(batch, decoded_batch.view_as(batch))\n",
    "            testing_running_loss += loss.item()\n",
    "\n",
    "\n",
    "    # Print results\n",
    "    print(f'  End epoch:  {i:3}', flush=True)\n",
    "    print(f'    Time elapsed: {time.time() - start_time} sec', flush=True)\n",
    "    print(f'    Training average loss: {training_running_loss / len(training_generator)}', flush=True)\n",
    "    print(f'    Testing average loss:  {testing_running_loss / len(testing_generator)}', flush=True)\n",
    "print(\"Complete.\")"
   ]
  },
  {
   "cell_type": "code",
   "execution_count": 24,
   "metadata": {
    "pycharm": {
     "name": "#%%\n"
    }
   },
   "outputs": [],
   "source": [
    "# Clear cache\n",
    "torch.cuda.empty_cache()"
   ]
  },
  {
   "cell_type": "code",
   "execution_count": 25,
   "metadata": {
    "pycharm": {
     "name": "#%%\n"
    }
   },
   "outputs": [],
   "source": [
    "batch = list(testing_generator)[0].to(device=device)\n",
    "\n",
    "# Run batch through model\n",
    "encoder.eval()\n",
    "decoder.eval()\n",
    "\n",
    "encoded_batch = encoder(batch)\n",
    "decoded_batch = decoder(encoded_batch)\n",
    "\n",
    "# Unflatten\n",
    "decoded_batch = decoded_batch.view_as(batch)\n",
    "\n",
    "loss = loss_function(batch, decoded_batch.view_as(batch))"
   ]
  },
  {
   "cell_type": "code",
   "execution_count": 45,
   "metadata": {
    "pycharm": {
     "name": "#%%\n"
    }
   },
   "outputs": [
    {
     "data": {
      "image/png": "[encoded data removed]",
      "text/plain": [
       "<Figure size 432x288 with 1 Axes>"
      ]
     },
     "metadata": {},
     "output_type": "display_data"
    },
    {
     "data": {
      "image/png": "[encoded data removed]",
      "text/plain": [
       "<Figure size 432x288 with 1 Axes>"
      ]
     },
     "metadata": {},
     "output_type": "display_data"
    },
    {
     "data": {
      "image/png": "[encoded data removed]",
      "text/plain": [
       "<Figure size 432x288 with 1 Axes>"
      ]
     },
     "metadata": {},
     "output_type": "display_data"
    },
    {
     "data": {
      "image/png": "[encoded data removed]",
      "text/plain": [
       "<Figure size 432x288 with 1 Axes>"
      ]
     },
     "metadata": {},
     "output_type": "display_data"
    },
    {
     "data": {
      "image/png": "[encoded data removed]",
      "text/plain": [
       "<Figure size 432x288 with 1 Axes>"
      ]
     },
     "metadata": {},
     "output_type": "display_data"
    },
    {
     "data": {
      "image/png": "[encoded data removed]",
      "text/plain": [
       "<Figure size 432x288 with 1 Axes>"
      ]
     },
     "metadata": {},
     "output_type": "display_data"
    },
    {
     "data": {
      "image/png": "[encoded data removed]",
      "text/plain": [
       "<Figure size 432x288 with 1 Axes>"
      ]
     },
     "metadata": {},
     "output_type": "display_data"
    },
    {
     "data": {
      "image/png": "[encoded data removed]",
      "text/plain": [
       "<Figure size 432x288 with 1 Axes>"
      ]
     },
     "metadata": {},
     "output_type": "display_data"
    }
   ],
   "source": [
    "# Graph results\n",
    "\n",
    "batch_idx = 20\n",
    "ohlcv_idx = 4\n",
    "\n",
    "for ohlcv_idx in range(0, 4):\n",
    "    plt.plot(batch[batch_idx][:, ohlcv_idx].detach().cpu())\n",
    "    plt.title(f\"<{ohlcv_idx}> batch\")\n",
    "    plt.rcParams['figure.facecolor'] = 'gray'\n",
    "    plt.show()\n",
    "\n",
    "    plt.plot(decoded_batch[batch_idx][:, ohlcv_idx].detach().cpu())\n",
    "    plt.title(f\"<{ohlcv_idx}> decoded_batch\")\n",
    "    plt.rcParams['figure.facecolor'] = 'gray'\n",
    "    plt.show()\n"
   ]
  },
  {
   "cell_type": "code",
   "execution_count": 46,
   "metadata": {
    "pycharm": {
     "name": "#%%\n"
    }
   },
   "outputs": [
    {
     "name": "stdout",
     "output_type": "stream",
     "text": [
      "10\n"
     ]
    }
   ],
   "source": [
    "print(compression_size)"
   ]
  },
  {
   "cell_type": "code",
   "execution_count": 47,
   "metadata": {
    "pycharm": {
     "name": "#%%\n"
    }
   },
   "outputs": [
    {
     "data": {
      "text/html": [
       "        <script type=\"text/javascript\">\n",
       "        window.PlotlyConfig = {MathJaxConfig: 'local'};\n",
       "        if (window.MathJax) {MathJax.Hub.Config({SVG: {font: \"STIX-Web\"}});}\n",
       "        if (typeof require !== 'undefined') {\n",
       "        require.undef(\"plotly\");\n",
       "        requirejs.config({\n",
       "            paths: {\n",
       "                'plotly': ['https://cdn.plot.ly/plotly-latest.min']\n",
       "            }\n",
       "        });\n",
       "        require(['plotly'], function(Plotly) {\n",
       "            window._Plotly = Plotly;\n",
       "        });\n",
       "        }\n",
       "        </script>\n",
       "        "
      ]
     },
     "metadata": {},
     "output_type": "display_data"
    },
    {
     "data": {
      "application/vnd.plotly.v1+json": {
       "config": {
        "plotlyServerURL": "https://plot.ly"
       },
       "data": [
        {
         "close": [
          0.590524435043335,
          0.8222026824951172,
          0.8000885248184204,
          0.819770097732544,
          0.7621983289718628,
          0.7809600234031677,
          0.8213182687759399,
          0.7969925999641418,
          0.7111900448799133,
          0.8374594449996948,
          0.8083813190460205,
          0.7281933426856995,
          0.7804070115089417,
          0.7222471237182617,
          0.6444053053855896,
          0.3567008078098297,
          0.20322877168655396,
          0.05440087243914604,
          0.1460791677236557,
          0.2064354121685028,
          0.1868642121553421,
          0.11322416365146637,
          0.25143739581108093,
          0.6441400647163391,
          0.6209644079208374,
          0.6627600789070129,
          0.6082309484481812,
          0.5940624475479126,
          0.686311662197113,
          0.7578508257865906,
          0.7805443406105042,
          0.911764919757843,
          0.9248121380805969,
          0.9358692169189453,
          0.9385872483253479,
          0.9442726969718933,
          0.7262274622917175,
          0.8376827836036682,
          0.8903141617774963,
          0.9203894138336182
         ],
         "high": [
          0.6512606143951416,
          0.8224239945411682,
          0.8858914375305176,
          0.8268467783927917,
          0.8544893860816956,
          0.820765495300293,
          0.8408293724060059,
          0.8670899271965027,
          0.8275081515312195,
          0.859354555606842,
          0.8673156499862671,
          0.8286159634590149,
          0.819770097732544,
          0.7998675107955933,
          0.737947940826416,
          0.6636444926261902,
          0.3182221055030823,
          0.2421495020389557,
          0.17204779386520386,
          0.320433646440506,
          0.26617416739463806,
          0.21618086099624634,
          0.31379935145378113,
          0.6817782521247864,
          0.6647502779960632,
          0.6627600789070129,
          0.6738171577453613,
          0.632905900478363,
          0.7052191495895386,
          0.775763213634491,
          1,
          0.9374173283576965,
          0.9544453024864197,
          0.9551087021827698,
          0.9882795214653015,
          0.9849625825881958,
          0.9774438738822937,
          0.8752767443656921,
          0.8942813873291016,
          0.9369750022888184
         ],
         "low": [
          0.542016863822937,
          0.5776205658912659,
          0.6711635589599609,
          0.6713845729827881,
          0.7215837240219116,
          0.7206989526748657,
          0.7651485204696655,
          0.7529857158660889,
          0.6868643760681152,
          0.7487839460372925,
          0.7832819223403931,
          0.7016807794570923,
          0.714728057384491,
          0.7107476592063904,
          0.6057056188583374,
          0.34033623337745667,
          0.11941608786582947,
          0.02299853228032589,
          0,
          0.11676250398159027,
          0.12361782789230347,
          0.09752333164215088,
          0.10727553069591522,
          0.48761633038520813,
          0.5846972465515137,
          0.6012828350067139,
          0.5805485248565674,
          0.5291929841041565,
          0.5747460126876831,
          0.6747015714645386,
          0.700796365737915,
          0.7682445049285889,
          0.8547104597091675,
          0.9020346403121948,
          0.8861279487609863,
          0.9020346403121948,
          0.700796365737915,
          0.7478992342948914,
          0.8102611899375916,
          0.8777093291282654
         ],
         "open": [
          0.5579390525817871,
          0.5886776447296143,
          0.7690182328224182,
          0.8000885248184204,
          0.8199914693832397,
          0.7624062299728394,
          0.7806283235549927,
          0.8213182687759399,
          0.7972139120101929,
          0.7780739665031433,
          0.836134672164917,
          0.8078286051750183,
          0.7283283472061157,
          0.7799649834632874,
          0.7218047380447388,
          0.6455110907554626,
          0.27841663360595703,
          0.20455557107925415,
          0.05395849794149399,
          0.14784394204616547,
          0.20743051171302795,
          0.18531639873981476,
          0.11344552040100098,
          0.5375940799713135,
          0.6441842913627625,
          0.6216278076171875,
          0.6622070074081421,
          0.6081382036209106,
          0.5939851403236389,
          0.6870853900909424,
          0.844538152217865,
          0.7801883220672607,
          0.9126496315002441,
          0.9243701100349426,
          0.9363116025924683,
          0.9380807280540466,
          0.9451574087142944,
          0.7498897314071655,
          0.8395622968673706,
          0.8892681002616882
         ],
         "type": "candlestick"
        }
       ],
       "layout": {
        "template": {
         "data": {
          "bar": [
           {
            "error_x": {
             "color": "#2a3f5f"
            },
            "error_y": {
             "color": "#2a3f5f"
            },
            "marker": {
             "line": {
              "color": "#E5ECF6",
              "width": 0.5
             }
            },
            "type": "bar"
           }
          ],
          "barpolar": [
           {
            "marker": {
             "line": {
              "color": "#E5ECF6",
              "width": 0.5
             }
            },
            "type": "barpolar"
           }
          ],
          "carpet": [
           {
            "aaxis": {
             "endlinecolor": "#2a3f5f",
             "gridcolor": "white",
             "linecolor": "white",
             "minorgridcolor": "white",
             "startlinecolor": "#2a3f5f"
            },
            "baxis": {
             "endlinecolor": "#2a3f5f",
             "gridcolor": "white",
             "linecolor": "white",
             "minorgridcolor": "white",
             "startlinecolor": "#2a3f5f"
            },
            "type": "carpet"
           }
          ],
          "choropleth": [
           {
            "colorbar": {
             "outlinewidth": 0,
             "ticks": ""
            },
            "type": "choropleth"
           }
          ],
          "contour": [
           {
            "colorbar": {
             "outlinewidth": 0,
             "ticks": ""
            },
            "colorscale": [
             [
              0,
              "#0d0887"
             ],
             [
              0.1111111111111111,
              "#46039f"
             ],
             [
              0.2222222222222222,
              "#7201a8"
             ],
             [
              0.3333333333333333,
              "#9c179e"
             ],
             [
              0.4444444444444444,
              "#bd3786"
             ],
             [
              0.5555555555555556,
              "#d8576b"
             ],
             [
              0.6666666666666666,
              "#ed7953"
             ],
             [
              0.7777777777777778,
              "#fb9f3a"
             ],
             [
              0.8888888888888888,
              "#fdca26"
             ],
             [
              1,
              "#f0f921"
             ]
            ],
            "type": "contour"
           }
          ],
          "contourcarpet": [
           {
            "colorbar": {
             "outlinewidth": 0,
             "ticks": ""
            },
            "type": "contourcarpet"
           }
          ],
          "heatmap": [
           {
            "colorbar": {
             "outlinewidth": 0,
             "ticks": ""
            },
            "colorscale": [
             [
              0,
              "#0d0887"
             ],
             [
              0.1111111111111111,
              "#46039f"
             ],
             [
              0.2222222222222222,
              "#7201a8"
             ],
             [
              0.3333333333333333,
              "#9c179e"
             ],
             [
              0.4444444444444444,
              "#bd3786"
             ],
             [
              0.5555555555555556,
              "#d8576b"
             ],
             [
              0.6666666666666666,
              "#ed7953"
             ],
             [
              0.7777777777777778,
              "#fb9f3a"
             ],
             [
              0.8888888888888888,
              "#fdca26"
             ],
             [
              1,
              "#f0f921"
             ]
            ],
            "type": "heatmap"
           }
          ],
          "heatmapgl": [
           {
            "colorbar": {
             "outlinewidth": 0,
             "ticks": ""
            },
            "colorscale": [
             [
              0,
              "#0d0887"
             ],
             [
              0.1111111111111111,
              "#46039f"
             ],
             [
              0.2222222222222222,
              "#7201a8"
             ],
             [
              0.3333333333333333,
              "#9c179e"
             ],
             [
              0.4444444444444444,
              "#bd3786"
             ],
             [
              0.5555555555555556,
              "#d8576b"
             ],
             [
              0.6666666666666666,
              "#ed7953"
             ],
             [
              0.7777777777777778,
              "#fb9f3a"
             ],
             [
              0.8888888888888888,
              "#fdca26"
             ],
             [
              1,
              "#f0f921"
             ]
            ],
            "type": "heatmapgl"
           }
          ],
          "histogram": [
           {
            "marker": {
             "colorbar": {
              "outlinewidth": 0,
              "ticks": ""
             }
            },
            "type": "histogram"
           }
          ],
          "histogram2d": [
           {
            "colorbar": {
             "outlinewidth": 0,
             "ticks": ""
            },
            "colorscale": [
             [
              0,
              "#0d0887"
             ],
             [
              0.1111111111111111,
              "#46039f"
             ],
             [
              0.2222222222222222,
              "#7201a8"
             ],
             [
              0.3333333333333333,
              "#9c179e"
             ],
             [
              0.4444444444444444,
              "#bd3786"
             ],
             [
              0.5555555555555556,
              "#d8576b"
             ],
             [
              0.6666666666666666,
              "#ed7953"
             ],
             [
              0.7777777777777778,
              "#fb9f3a"
             ],
             [
              0.8888888888888888,
              "#fdca26"
             ],
             [
              1,
              "#f0f921"
             ]
            ],
            "type": "histogram2d"
           }
          ],
          "histogram2dcontour": [
           {
            "colorbar": {
             "outlinewidth": 0,
             "ticks": ""
            },
            "colorscale": [
             [
              0,
              "#0d0887"
             ],
             [
              0.1111111111111111,
              "#46039f"
             ],
             [
              0.2222222222222222,
              "#7201a8"
             ],
             [
              0.3333333333333333,
              "#9c179e"
             ],
             [
              0.4444444444444444,
              "#bd3786"
             ],
             [
              0.5555555555555556,
              "#d8576b"
             ],
             [
              0.6666666666666666,
              "#ed7953"
             ],
             [
              0.7777777777777778,
              "#fb9f3a"
             ],
             [
              0.8888888888888888,
              "#fdca26"
             ],
             [
              1,
              "#f0f921"
             ]
            ],
            "type": "histogram2dcontour"
           }
          ],
          "mesh3d": [
           {
            "colorbar": {
             "outlinewidth": 0,
             "ticks": ""
            },
            "type": "mesh3d"
           }
          ],
          "parcoords": [
           {
            "line": {
             "colorbar": {
              "outlinewidth": 0,
              "ticks": ""
             }
            },
            "type": "parcoords"
           }
          ],
          "pie": [
           {
            "automargin": true,
            "type": "pie"
           }
          ],
          "scatter": [
           {
            "marker": {
             "colorbar": {
              "outlinewidth": 0,
              "ticks": ""
             }
            },
            "type": "scatter"
           }
          ],
          "scatter3d": [
           {
            "line": {
             "colorbar": {
              "outlinewidth": 0,
              "ticks": ""
             }
            },
            "marker": {
             "colorbar": {
              "outlinewidth": 0,
              "ticks": ""
             }
            },
            "type": "scatter3d"
           }
          ],
          "scattercarpet": [
           {
            "marker": {
             "colorbar": {
              "outlinewidth": 0,
              "ticks": ""
             }
            },
            "type": "scattercarpet"
           }
          ],
          "scattergeo": [
           {
            "marker": {
             "colorbar": {
              "outlinewidth": 0,
              "ticks": ""
             }
            },
            "type": "scattergeo"
           }
          ],
          "scattergl": [
           {
            "marker": {
             "colorbar": {
              "outlinewidth": 0,
              "ticks": ""
             }
            },
            "type": "scattergl"
           }
          ],
          "scattermapbox": [
           {
            "marker": {
             "colorbar": {
              "outlinewidth": 0,
              "ticks": ""
             }
            },
            "type": "scattermapbox"
           }
          ],
          "scatterpolar": [
           {
            "marker": {
             "colorbar": {
              "outlinewidth": 0,
              "ticks": ""
             }
            },
            "type": "scatterpolar"
           }
          ],
          "scatterpolargl": [
           {
            "marker": {
             "colorbar": {
              "outlinewidth": 0,
              "ticks": ""
             }
            },
            "type": "scatterpolargl"
           }
          ],
          "scatterternary": [
           {
            "marker": {
             "colorbar": {
              "outlinewidth": 0,
              "ticks": ""
             }
            },
            "type": "scatterternary"
           }
          ],
          "surface": [
           {
            "colorbar": {
             "outlinewidth": 0,
             "ticks": ""
            },
            "colorscale": [
             [
              0,
              "#0d0887"
             ],
             [
              0.1111111111111111,
              "#46039f"
             ],
             [
              0.2222222222222222,
              "#7201a8"
             ],
             [
              0.3333333333333333,
              "#9c179e"
             ],
             [
              0.4444444444444444,
              "#bd3786"
             ],
             [
              0.5555555555555556,
              "#d8576b"
             ],
             [
              0.6666666666666666,
              "#ed7953"
             ],
             [
              0.7777777777777778,
              "#fb9f3a"
             ],
             [
              0.8888888888888888,
              "#fdca26"
             ],
             [
              1,
              "#f0f921"
             ]
            ],
            "type": "surface"
           }
          ],
          "table": [
           {
            "cells": {
             "fill": {
              "color": "#EBF0F8"
             },
             "line": {
              "color": "white"
             }
            },
            "header": {
             "fill": {
              "color": "#C8D4E3"
             },
             "line": {
              "color": "white"
             }
            },
            "type": "table"
           }
          ]
         },
         "layout": {
          "annotationdefaults": {
           "arrowcolor": "#2a3f5f",
           "arrowhead": 0,
           "arrowwidth": 1
          },
          "coloraxis": {
           "colorbar": {
            "outlinewidth": 0,
            "ticks": ""
           }
          },
          "colorscale": {
           "diverging": [
            [
             0,
             "#8e0152"
            ],
            [
             0.1,
             "#c51b7d"
            ],
            [
             0.2,
             "#de77ae"
            ],
            [
             0.3,
             "#f1b6da"
            ],
            [
             0.4,
             "#fde0ef"
            ],
            [
             0.5,
             "#f7f7f7"
            ],
            [
             0.6,
             "#e6f5d0"
            ],
            [
             0.7,
             "#b8e186"
            ],
            [
             0.8,
             "#7fbc41"
            ],
            [
             0.9,
             "#4d9221"
            ],
            [
             1,
             "#276419"
            ]
           ],
           "sequential": [
            [
             0,
             "#0d0887"
            ],
            [
             0.1111111111111111,
             "#46039f"
            ],
            [
             0.2222222222222222,
             "#7201a8"
            ],
            [
             0.3333333333333333,
             "#9c179e"
            ],
            [
             0.4444444444444444,
             "#bd3786"
            ],
            [
             0.5555555555555556,
             "#d8576b"
            ],
            [
             0.6666666666666666,
             "#ed7953"
            ],
            [
             0.7777777777777778,
             "#fb9f3a"
            ],
            [
             0.8888888888888888,
             "#fdca26"
            ],
            [
             1,
             "#f0f921"
            ]
           ],
           "sequentialminus": [
            [
             0,
             "#0d0887"
            ],
            [
             0.1111111111111111,
             "#46039f"
            ],
            [
             0.2222222222222222,
             "#7201a8"
            ],
            [
             0.3333333333333333,
             "#9c179e"
            ],
            [
             0.4444444444444444,
             "#bd3786"
            ],
            [
             0.5555555555555556,
             "#d8576b"
            ],
            [
             0.6666666666666666,
             "#ed7953"
            ],
            [
             0.7777777777777778,
             "#fb9f3a"
            ],
            [
             0.8888888888888888,
             "#fdca26"
            ],
            [
             1,
             "#f0f921"
            ]
           ]
          },
          "colorway": [
           "#636efa",
           "#EF553B",
           "#00cc96",
           "#ab63fa",
           "#FFA15A",
           "#19d3f3",
           "#FF6692",
           "#B6E880",
           "#FF97FF",
           "#FECB52"
          ],
          "font": {
           "color": "#2a3f5f"
          },
          "geo": {
           "bgcolor": "white",
           "lakecolor": "white",
           "landcolor": "#E5ECF6",
           "showlakes": true,
           "showland": true,
           "subunitcolor": "white"
          },
          "hoverlabel": {
           "align": "left"
          },
          "hovermode": "closest",
          "mapbox": {
           "style": "light"
          },
          "paper_bgcolor": "white",
          "plot_bgcolor": "#E5ECF6",
          "polar": {
           "angularaxis": {
            "gridcolor": "white",
            "linecolor": "white",
            "ticks": ""
           },
           "bgcolor": "#E5ECF6",
           "radialaxis": {
            "gridcolor": "white",
            "linecolor": "white",
            "ticks": ""
           }
          },
          "scene": {
           "xaxis": {
            "backgroundcolor": "#E5ECF6",
            "gridcolor": "white",
            "gridwidth": 2,
            "linecolor": "white",
            "showbackground": true,
            "ticks": "",
            "zerolinecolor": "white"
           },
           "yaxis": {
            "backgroundcolor": "#E5ECF6",
            "gridcolor": "white",
            "gridwidth": 2,
            "linecolor": "white",
            "showbackground": true,
            "ticks": "",
            "zerolinecolor": "white"
           },
           "zaxis": {
            "backgroundcolor": "#E5ECF6",
            "gridcolor": "white",
            "gridwidth": 2,
            "linecolor": "white",
            "showbackground": true,
            "ticks": "",
            "zerolinecolor": "white"
           }
          },
          "shapedefaults": {
           "line": {
            "color": "#2a3f5f"
           }
          },
          "ternary": {
           "aaxis": {
            "gridcolor": "white",
            "linecolor": "white",
            "ticks": ""
           },
           "baxis": {
            "gridcolor": "white",
            "linecolor": "white",
            "ticks": ""
           },
           "bgcolor": "#E5ECF6",
           "caxis": {
            "gridcolor": "white",
            "linecolor": "white",
            "ticks": ""
           }
          },
          "title": {
           "x": 0.05
          },
          "xaxis": {
           "automargin": true,
           "gridcolor": "white",
           "linecolor": "white",
           "ticks": "",
           "title": {
            "standoff": 15
           },
           "zerolinecolor": "white",
           "zerolinewidth": 2
          },
          "yaxis": {
           "automargin": true,
           "gridcolor": "white",
           "linecolor": "white",
           "ticks": "",
           "title": {
            "standoff": 15
           },
           "zerolinecolor": "white",
           "zerolinewidth": 2
          }
         }
        },
        "title": {
         "text": "Original Data Chunk"
        },
        "xaxis": {
         "rangeslider": {
          "visible": true
         }
        },
        "yaxis": {
         "fixedrange": false
        }
       }
      },
      "text/html": [
       "<div>\n",
       "        \n",
       "        \n",
       "            <div id=\"69cf4722-a421-4019-b7b6-b404e49b09a4\" class=\"plotly-graph-div\" style=\"height:525px; width:100%;\"></div>\n",
       "            <script type=\"text/javascript\">\n",
       "                require([\"plotly\"], function(Plotly) {\n",
       "                    window.PLOTLYENV=window.PLOTLYENV || {};\n",
       "                    \n",
       "                if (document.getElementById(\"69cf4722-a421-4019-b7b6-b404e49b09a4\")) {\n",
       "                    Plotly.newPlot(\n",
       "                        '69cf4722-a421-4019-b7b6-b404e49b09a4',\n",
       "                        [{\"close\": [0.590524435043335, 0.8222026824951172, 0.8000885248184204, 0.819770097732544, 0.7621983289718628, 0.7809600234031677, 0.8213182687759399, 0.7969925999641418, 0.7111900448799133, 0.8374594449996948, 0.8083813190460205, 0.7281933426856995, 0.7804070115089417, 0.7222471237182617, 0.6444053053855896, 0.3567008078098297, 0.20322877168655396, 0.05440087243914604, 0.1460791677236557, 0.2064354121685028, 0.1868642121553421, 0.11322416365146637, 0.25143739581108093, 0.6441400647163391, 0.6209644079208374, 0.6627600789070129, 0.6082309484481812, 0.5940624475479126, 0.686311662197113, 0.7578508257865906, 0.7805443406105042, 0.911764919757843, 0.9248121380805969, 0.9358692169189453, 0.9385872483253479, 0.9442726969718933, 0.7262274622917175, 0.8376827836036682, 0.8903141617774963, 0.9203894138336182], \"high\": [0.6512606143951416, 0.8224239945411682, 0.8858914375305176, 0.8268467783927917, 0.8544893860816956, 0.820765495300293, 0.8408293724060059, 0.8670899271965027, 0.8275081515312195, 0.859354555606842, 0.8673156499862671, 0.8286159634590149, 0.819770097732544, 0.7998675107955933, 0.737947940826416, 0.6636444926261902, 0.3182221055030823, 0.2421495020389557, 0.17204779386520386, 0.320433646440506, 0.26617416739463806, 0.21618086099624634, 0.31379935145378113, 0.6817782521247864, 0.6647502779960632, 0.6627600789070129, 0.6738171577453613, 0.632905900478363, 0.7052191495895386, 0.775763213634491, 1.0, 0.9374173283576965, 0.9544453024864197, 0.9551087021827698, 0.9882795214653015, 0.9849625825881958, 0.9774438738822937, 0.8752767443656921, 0.8942813873291016, 0.9369750022888184], \"low\": [0.542016863822937, 0.5776205658912659, 0.6711635589599609, 0.6713845729827881, 0.7215837240219116, 0.7206989526748657, 0.7651485204696655, 0.7529857158660889, 0.6868643760681152, 0.7487839460372925, 0.7832819223403931, 0.7016807794570923, 0.714728057384491, 0.7107476592063904, 0.6057056188583374, 0.34033623337745667, 0.11941608786582947, 0.02299853228032589, 0.0, 0.11676250398159027, 0.12361782789230347, 0.09752333164215088, 0.10727553069591522, 0.48761633038520813, 0.5846972465515137, 0.6012828350067139, 0.5805485248565674, 0.5291929841041565, 0.5747460126876831, 0.6747015714645386, 0.700796365737915, 0.7682445049285889, 0.8547104597091675, 0.9020346403121948, 0.8861279487609863, 0.9020346403121948, 0.700796365737915, 0.7478992342948914, 0.8102611899375916, 0.8777093291282654], \"open\": [0.5579390525817871, 0.5886776447296143, 0.7690182328224182, 0.8000885248184204, 0.8199914693832397, 0.7624062299728394, 0.7806283235549927, 0.8213182687759399, 0.7972139120101929, 0.7780739665031433, 0.836134672164917, 0.8078286051750183, 0.7283283472061157, 0.7799649834632874, 0.7218047380447388, 0.6455110907554626, 0.27841663360595703, 0.20455557107925415, 0.05395849794149399, 0.14784394204616547, 0.20743051171302795, 0.18531639873981476, 0.11344552040100098, 0.5375940799713135, 0.6441842913627625, 0.6216278076171875, 0.6622070074081421, 0.6081382036209106, 0.5939851403236389, 0.6870853900909424, 0.844538152217865, 0.7801883220672607, 0.9126496315002441, 0.9243701100349426, 0.9363116025924683, 0.9380807280540466, 0.9451574087142944, 0.7498897314071655, 0.8395622968673706, 0.8892681002616882], \"type\": \"candlestick\"}],\n",
       "                        {\"template\": {\"data\": {\"bar\": [{\"error_x\": {\"color\": \"#2a3f5f\"}, \"error_y\": {\"color\": \"#2a3f5f\"}, \"marker\": {\"line\": {\"color\": \"#E5ECF6\", \"width\": 0.5}}, \"type\": \"bar\"}], \"barpolar\": [{\"marker\": {\"line\": {\"color\": \"#E5ECF6\", \"width\": 0.5}}, \"type\": \"barpolar\"}], \"carpet\": [{\"aaxis\": {\"endlinecolor\": \"#2a3f5f\", \"gridcolor\": \"white\", \"linecolor\": \"white\", \"minorgridcolor\": \"white\", \"startlinecolor\": \"#2a3f5f\"}, \"baxis\": {\"endlinecolor\": \"#2a3f5f\", \"gridcolor\": \"white\", \"linecolor\": \"white\", \"minorgridcolor\": \"white\", \"startlinecolor\": \"#2a3f5f\"}, \"type\": \"carpet\"}], \"choropleth\": [{\"colorbar\": {\"outlinewidth\": 0, \"ticks\": \"\"}, \"type\": \"choropleth\"}], \"contour\": [{\"colorbar\": {\"outlinewidth\": 0, \"ticks\": \"\"}, \"colorscale\": [[0.0, \"#0d0887\"], [0.1111111111111111, \"#46039f\"], [0.2222222222222222, \"#7201a8\"], [0.3333333333333333, \"#9c179e\"], [0.4444444444444444, \"#bd3786\"], [0.5555555555555556, \"#d8576b\"], [0.6666666666666666, \"#ed7953\"], [0.7777777777777778, \"#fb9f3a\"], [0.8888888888888888, \"#fdca26\"], [1.0, \"#f0f921\"]], \"type\": \"contour\"}], \"contourcarpet\": [{\"colorbar\": {\"outlinewidth\": 0, \"ticks\": \"\"}, \"type\": \"contourcarpet\"}], \"heatmap\": [{\"colorbar\": {\"outlinewidth\": 0, \"ticks\": \"\"}, \"colorscale\": [[0.0, \"#0d0887\"], [0.1111111111111111, \"#46039f\"], [0.2222222222222222, \"#7201a8\"], [0.3333333333333333, \"#9c179e\"], [0.4444444444444444, \"#bd3786\"], [0.5555555555555556, \"#d8576b\"], [0.6666666666666666, \"#ed7953\"], [0.7777777777777778, \"#fb9f3a\"], [0.8888888888888888, \"#fdca26\"], [1.0, \"#f0f921\"]], \"type\": \"heatmap\"}], \"heatmapgl\": [{\"colorbar\": {\"outlinewidth\": 0, \"ticks\": \"\"}, \"colorscale\": [[0.0, \"#0d0887\"], [0.1111111111111111, \"#46039f\"], [0.2222222222222222, \"#7201a8\"], [0.3333333333333333, \"#9c179e\"], [0.4444444444444444, \"#bd3786\"], [0.5555555555555556, \"#d8576b\"], [0.6666666666666666, \"#ed7953\"], [0.7777777777777778, \"#fb9f3a\"], [0.8888888888888888, \"#fdca26\"], [1.0, \"#f0f921\"]], \"type\": \"heatmapgl\"}], \"histogram\": [{\"marker\": {\"colorbar\": {\"outlinewidth\": 0, \"ticks\": \"\"}}, \"type\": \"histogram\"}], \"histogram2d\": [{\"colorbar\": {\"outlinewidth\": 0, \"ticks\": \"\"}, \"colorscale\": [[0.0, \"#0d0887\"], [0.1111111111111111, \"#46039f\"], [0.2222222222222222, \"#7201a8\"], [0.3333333333333333, \"#9c179e\"], [0.4444444444444444, \"#bd3786\"], [0.5555555555555556, \"#d8576b\"], [0.6666666666666666, \"#ed7953\"], [0.7777777777777778, \"#fb9f3a\"], [0.8888888888888888, \"#fdca26\"], [1.0, \"#f0f921\"]], \"type\": \"histogram2d\"}], \"histogram2dcontour\": [{\"colorbar\": {\"outlinewidth\": 0, \"ticks\": \"\"}, \"colorscale\": [[0.0, \"#0d0887\"], [0.1111111111111111, \"#46039f\"], [0.2222222222222222, \"#7201a8\"], [0.3333333333333333, \"#9c179e\"], [0.4444444444444444, \"#bd3786\"], [0.5555555555555556, \"#d8576b\"], [0.6666666666666666, \"#ed7953\"], [0.7777777777777778, \"#fb9f3a\"], [0.8888888888888888, \"#fdca26\"], [1.0, \"#f0f921\"]], \"type\": \"histogram2dcontour\"}], \"mesh3d\": [{\"colorbar\": {\"outlinewidth\": 0, \"ticks\": \"\"}, \"type\": \"mesh3d\"}], \"parcoords\": [{\"line\": {\"colorbar\": {\"outlinewidth\": 0, \"ticks\": \"\"}}, \"type\": \"parcoords\"}], \"pie\": [{\"automargin\": true, \"type\": \"pie\"}], \"scatter\": [{\"marker\": {\"colorbar\": {\"outlinewidth\": 0, \"ticks\": \"\"}}, \"type\": \"scatter\"}], \"scatter3d\": [{\"line\": {\"colorbar\": {\"outlinewidth\": 0, \"ticks\": \"\"}}, \"marker\": {\"colorbar\": {\"outlinewidth\": 0, \"ticks\": \"\"}}, \"type\": \"scatter3d\"}], \"scattercarpet\": [{\"marker\": {\"colorbar\": {\"outlinewidth\": 0, \"ticks\": \"\"}}, \"type\": \"scattercarpet\"}], \"scattergeo\": [{\"marker\": {\"colorbar\": {\"outlinewidth\": 0, \"ticks\": \"\"}}, \"type\": \"scattergeo\"}], \"scattergl\": [{\"marker\": {\"colorbar\": {\"outlinewidth\": 0, \"ticks\": \"\"}}, \"type\": \"scattergl\"}], \"scattermapbox\": [{\"marker\": {\"colorbar\": {\"outlinewidth\": 0, \"ticks\": \"\"}}, \"type\": \"scattermapbox\"}], \"scatterpolar\": [{\"marker\": {\"colorbar\": {\"outlinewidth\": 0, \"ticks\": \"\"}}, \"type\": \"scatterpolar\"}], \"scatterpolargl\": [{\"marker\": {\"colorbar\": {\"outlinewidth\": 0, \"ticks\": \"\"}}, \"type\": \"scatterpolargl\"}], \"scatterternary\": [{\"marker\": {\"colorbar\": {\"outlinewidth\": 0, \"ticks\": \"\"}}, \"type\": \"scatterternary\"}], \"surface\": [{\"colorbar\": {\"outlinewidth\": 0, \"ticks\": \"\"}, \"colorscale\": [[0.0, \"#0d0887\"], [0.1111111111111111, \"#46039f\"], [0.2222222222222222, \"#7201a8\"], [0.3333333333333333, \"#9c179e\"], [0.4444444444444444, \"#bd3786\"], [0.5555555555555556, \"#d8576b\"], [0.6666666666666666, \"#ed7953\"], [0.7777777777777778, \"#fb9f3a\"], [0.8888888888888888, \"#fdca26\"], [1.0, \"#f0f921\"]], \"type\": \"surface\"}], \"table\": [{\"cells\": {\"fill\": {\"color\": \"#EBF0F8\"}, \"line\": {\"color\": \"white\"}}, \"header\": {\"fill\": {\"color\": \"#C8D4E3\"}, \"line\": {\"color\": \"white\"}}, \"type\": \"table\"}]}, \"layout\": {\"annotationdefaults\": {\"arrowcolor\": \"#2a3f5f\", \"arrowhead\": 0, \"arrowwidth\": 1}, \"coloraxis\": {\"colorbar\": {\"outlinewidth\": 0, \"ticks\": \"\"}}, \"colorscale\": {\"diverging\": [[0, \"#8e0152\"], [0.1, \"#c51b7d\"], [0.2, \"#de77ae\"], [0.3, \"#f1b6da\"], [0.4, \"#fde0ef\"], [0.5, \"#f7f7f7\"], [0.6, \"#e6f5d0\"], [0.7, \"#b8e186\"], [0.8, \"#7fbc41\"], [0.9, \"#4d9221\"], [1, \"#276419\"]], \"sequential\": [[0.0, \"#0d0887\"], [0.1111111111111111, \"#46039f\"], [0.2222222222222222, \"#7201a8\"], [0.3333333333333333, \"#9c179e\"], [0.4444444444444444, \"#bd3786\"], [0.5555555555555556, \"#d8576b\"], [0.6666666666666666, \"#ed7953\"], [0.7777777777777778, \"#fb9f3a\"], [0.8888888888888888, \"#fdca26\"], [1.0, \"#f0f921\"]], \"sequentialminus\": [[0.0, \"#0d0887\"], [0.1111111111111111, \"#46039f\"], [0.2222222222222222, \"#7201a8\"], [0.3333333333333333, \"#9c179e\"], [0.4444444444444444, \"#bd3786\"], [0.5555555555555556, \"#d8576b\"], [0.6666666666666666, \"#ed7953\"], [0.7777777777777778, \"#fb9f3a\"], [0.8888888888888888, \"#fdca26\"], [1.0, \"#f0f921\"]]}, \"colorway\": [\"#636efa\", \"#EF553B\", \"#00cc96\", \"#ab63fa\", \"#FFA15A\", \"#19d3f3\", \"#FF6692\", \"#B6E880\", \"#FF97FF\", \"#FECB52\"], \"font\": {\"color\": \"#2a3f5f\"}, \"geo\": {\"bgcolor\": \"white\", \"lakecolor\": \"white\", \"landcolor\": \"#E5ECF6\", \"showlakes\": true, \"showland\": true, \"subunitcolor\": \"white\"}, \"hoverlabel\": {\"align\": \"left\"}, \"hovermode\": \"closest\", \"mapbox\": {\"style\": \"light\"}, \"paper_bgcolor\": \"white\", \"plot_bgcolor\": \"#E5ECF6\", \"polar\": {\"angularaxis\": {\"gridcolor\": \"white\", \"linecolor\": \"white\", \"ticks\": \"\"}, \"bgcolor\": \"#E5ECF6\", \"radialaxis\": {\"gridcolor\": \"white\", \"linecolor\": \"white\", \"ticks\": \"\"}}, \"scene\": {\"xaxis\": {\"backgroundcolor\": \"#E5ECF6\", \"gridcolor\": \"white\", \"gridwidth\": 2, \"linecolor\": \"white\", \"showbackground\": true, \"ticks\": \"\", \"zerolinecolor\": \"white\"}, \"yaxis\": {\"backgroundcolor\": \"#E5ECF6\", \"gridcolor\": \"white\", \"gridwidth\": 2, \"linecolor\": \"white\", \"showbackground\": true, \"ticks\": \"\", \"zerolinecolor\": \"white\"}, \"zaxis\": {\"backgroundcolor\": \"#E5ECF6\", \"gridcolor\": \"white\", \"gridwidth\": 2, \"linecolor\": \"white\", \"showbackground\": true, \"ticks\": \"\", \"zerolinecolor\": \"white\"}}, \"shapedefaults\": {\"line\": {\"color\": \"#2a3f5f\"}}, \"ternary\": {\"aaxis\": {\"gridcolor\": \"white\", \"linecolor\": \"white\", \"ticks\": \"\"}, \"baxis\": {\"gridcolor\": \"white\", \"linecolor\": \"white\", \"ticks\": \"\"}, \"bgcolor\": \"#E5ECF6\", \"caxis\": {\"gridcolor\": \"white\", \"linecolor\": \"white\", \"ticks\": \"\"}}, \"title\": {\"x\": 0.05}, \"xaxis\": {\"automargin\": true, \"gridcolor\": \"white\", \"linecolor\": \"white\", \"ticks\": \"\", \"title\": {\"standoff\": 15}, \"zerolinecolor\": \"white\", \"zerolinewidth\": 2}, \"yaxis\": {\"automargin\": true, \"gridcolor\": \"white\", \"linecolor\": \"white\", \"ticks\": \"\", \"title\": {\"standoff\": 15}, \"zerolinecolor\": \"white\", \"zerolinewidth\": 2}}}, \"title\": {\"text\": \"Original Data Chunk\"}, \"xaxis\": {\"rangeslider\": {\"visible\": true}}, \"yaxis\": {\"fixedrange\": false}},\n",
       "                        {\"responsive\": true}\n",
       "                    ).then(function(){\n",
       "                            \n",
       "var gd = document.getElementById('69cf4722-a421-4019-b7b6-b404e49b09a4');\n",
       "var x = new MutationObserver(function (mutations, observer) {{\n",
       "        var display = window.getComputedStyle(gd).display;\n",
       "        if (!display || display === 'none') {{\n",
       "            console.log([gd, 'removed!']);\n",
       "            Plotly.purge(gd);\n",
       "            observer.disconnect();\n",
       "        }}\n",
       "}});\n",
       "\n",
       "// Listen for the removal of the full notebook cells\n",
       "var notebookContainer = gd.closest('#notebook-container');\n",
       "if (notebookContainer) {{\n",
       "    x.observe(notebookContainer, {childList: true});\n",
       "}}\n",
       "\n",
       "// Listen for the clearing of the current output cell\n",
       "var outputEl = gd.closest('.output');\n",
       "if (outputEl) {{\n",
       "    x.observe(outputEl, {childList: true});\n",
       "}}\n",
       "\n",
       "                        })\n",
       "                };\n",
       "                });\n",
       "            </script>\n",
       "        </div>"
      ]
     },
     "metadata": {},
     "output_type": "display_data"
    }
   ],
   "source": [
    "# Needed to display plotly in jupyter notebook\n",
    "plotly.offline.init_notebook_mode(connected=True)\n",
    "\n",
    "fig = go.Figure(data=[go.Candlestick(\n",
    "    open=batch[batch_idx][:, 0].detach().cpu(), high=batch[batch_idx][:, 1].detach().cpu(),\n",
    "    low=batch[batch_idx][:, 2].detach().cpu(), close=batch[batch_idx][:, 3].detach().cpu())])\n",
    "\n",
    "fig.update_layout(\n",
    "                  title='Original Data Chunk',\n",
    "                  xaxis_rangeslider_visible=True,\n",
    "                  yaxis_fixedrange=False,\n",
    "                 )\n"
   ]
  },
  {
   "cell_type": "code",
   "execution_count": 48,
   "metadata": {
    "pycharm": {
     "name": "#%%\n"
    }
   },
   "outputs": [
    {
     "data": {
      "application/vnd.plotly.v1+json": {
       "config": {
        "plotlyServerURL": "https://plot.ly"
       },
       "data": [
        {
         "close": [
          0.5145524144172668,
          0.5746981501579285,
          0.7117565870285034,
          0.7998110055923462,
          0.7808182239532471,
          0.7648639678955078,
          0.7681026458740234,
          0.7671059370040894,
          0.7731930017471313,
          0.7903734445571899,
          0.7285609245300293,
          0.7141380310058594,
          0.7297910451889038,
          0.7069404125213623,
          0.6685153841972351,
          0.5740069150924683,
          0.24480849504470825,
          0.1726992428302765,
          0.15938834846019745,
          0.16759011149406433,
          0.1967245638370514,
          0.2124210149049759,
          0.27170050144195557,
          0.5405828356742859,
          0.5875874161720276,
          0.6198775768280029,
          0.646238386631012,
          0.6625074744224548,
          0.6664876341819763,
          0.8137871026992798,
          0.8513708114624023,
          0.8922690153121948,
          0.9219785928726196,
          0.9062819480895996,
          0.9171863794326782,
          0.8958389759063721,
          0.877324640750885,
          0.8753873109817505,
          0.8659236431121826,
          0.8828010559082031
         ],
         "high": [
          0.5577356219291687,
          0.6117547154426575,
          0.7927459478378296,
          0.828805148601532,
          0.8311566710472107,
          0.8253488540649414,
          0.8150007724761963,
          0.8174265623092651,
          0.8237154483795166,
          0.9383045434951782,
          0.832933783531189,
          0.7811415195465088,
          0.8032209277153015,
          0.7694083452224731,
          0.7404575347900391,
          0.6806315183639526,
          0.4881590008735657,
          0.29446226358413696,
          0.26108506321907043,
          0.25277331471443176,
          0.2601798176765442,
          0.2743940055370331,
          0.3260307312011719,
          0.6159299612045288,
          0.6358999609947205,
          0.6757296323776245,
          0.6919516324996948,
          0.7028226852416992,
          0.7018914818763733,
          0.8266710042953491,
          0.969459056854248,
          0.9594265222549438,
          0.9694739580154419,
          0.9609565734863281,
          0.9666457176208496,
          0.9455822706222534,
          0.9396989941596985,
          0.97850501537323,
          0.9123570919036865,
          0.9290910959243774
         ],
         "low": [
          0.4516904354095459,
          0.4876759648323059,
          0.5196812152862549,
          0.697523295879364,
          0.7176549434661865,
          0.6940028071403503,
          0.7224757671356201,
          0.7192218899726868,
          0.7192347049713135,
          0.651791512966156,
          0.6697851419448853,
          0.6555444598197937,
          0.6713666319847107,
          0.6629825830459595,
          0.6316725015640259,
          0.5182246565818787,
          0.14537322521209717,
          0.08382548391819,
          0.08066985011100769,
          0.09099416434764862,
          0.13428199291229248,
          0.14718881249427795,
          0.16446846723556519,
          0.3251193165779114,
          0.49171578884124756,
          0.5434653759002686,
          0.5798361897468567,
          0.6043054461479187,
          0.596464991569519,
          0.709513247013092,
          0.7125402688980103,
          0.8160393238067627,
          0.8518792390823364,
          0.8447260856628418,
          0.8614391088485718,
          0.8557106256484985,
          0.8337051868438721,
          0.7565765380859375,
          0.8083568215370178,
          0.8306552767753601
         ],
         "open": [
          0.4997257888317108,
          0.5314674377441406,
          0.633823812007904,
          0.7417019605636597,
          0.7808162569999695,
          0.7660213708877563,
          0.7725844383239746,
          0.7672324180603027,
          0.7725563049316406,
          0.8114140033721924,
          0.7768624424934387,
          0.7269753217697144,
          0.7458036541938782,
          0.7243826389312744,
          0.7016993761062622,
          0.6159749031066895,
          0.40043336153030396,
          0.213058739900589,
          0.17755477130413055,
          0.16937068104743958,
          0.18654440343379974,
          0.19673381745815277,
          0.2231009602546692,
          0.4059050381183624,
          0.5429196357727051,
          0.5936582684516907,
          0.6321768760681152,
          0.6435495615005493,
          0.6384313702583313,
          0.7254205346107483,
          0.8324240446090698,
          0.8750349283218384,
          0.8992491364479065,
          0.9131062626838684,
          0.9178265333175659,
          0.9162874221801758,
          0.8964175581932068,
          0.8799436092376709,
          0.8615259528160095,
          0.8839668035507202
         ],
         "type": "candlestick"
        }
       ],
       "layout": {
        "template": {
         "data": {
          "bar": [
           {
            "error_x": {
             "color": "#2a3f5f"
            },
            "error_y": {
             "color": "#2a3f5f"
            },
            "marker": {
             "line": {
              "color": "#E5ECF6",
              "width": 0.5
             }
            },
            "type": "bar"
           }
          ],
          "barpolar": [
           {
            "marker": {
             "line": {
              "color": "#E5ECF6",
              "width": 0.5
             }
            },
            "type": "barpolar"
           }
          ],
          "carpet": [
           {
            "aaxis": {
             "endlinecolor": "#2a3f5f",
             "gridcolor": "white",
             "linecolor": "white",
             "minorgridcolor": "white",
             "startlinecolor": "#2a3f5f"
            },
            "baxis": {
             "endlinecolor": "#2a3f5f",
             "gridcolor": "white",
             "linecolor": "white",
             "minorgridcolor": "white",
             "startlinecolor": "#2a3f5f"
            },
            "type": "carpet"
           }
          ],
          "choropleth": [
           {
            "colorbar": {
             "outlinewidth": 0,
             "ticks": ""
            },
            "type": "choropleth"
           }
          ],
          "contour": [
           {
            "colorbar": {
             "outlinewidth": 0,
             "ticks": ""
            },
            "colorscale": [
             [
              0,
              "#0d0887"
             ],
             [
              0.1111111111111111,
              "#46039f"
             ],
             [
              0.2222222222222222,
              "#7201a8"
             ],
             [
              0.3333333333333333,
              "#9c179e"
             ],
             [
              0.4444444444444444,
              "#bd3786"
             ],
             [
              0.5555555555555556,
              "#d8576b"
             ],
             [
              0.6666666666666666,
              "#ed7953"
             ],
             [
              0.7777777777777778,
              "#fb9f3a"
             ],
             [
              0.8888888888888888,
              "#fdca26"
             ],
             [
              1,
              "#f0f921"
             ]
            ],
            "type": "contour"
           }
          ],
          "contourcarpet": [
           {
            "colorbar": {
             "outlinewidth": 0,
             "ticks": ""
            },
            "type": "contourcarpet"
           }
          ],
          "heatmap": [
           {
            "colorbar": {
             "outlinewidth": 0,
             "ticks": ""
            },
            "colorscale": [
             [
              0,
              "#0d0887"
             ],
             [
              0.1111111111111111,
              "#46039f"
             ],
             [
              0.2222222222222222,
              "#7201a8"
             ],
             [
              0.3333333333333333,
              "#9c179e"
             ],
             [
              0.4444444444444444,
              "#bd3786"
             ],
             [
              0.5555555555555556,
              "#d8576b"
             ],
             [
              0.6666666666666666,
              "#ed7953"
             ],
             [
              0.7777777777777778,
              "#fb9f3a"
             ],
             [
              0.8888888888888888,
              "#fdca26"
             ],
             [
              1,
              "#f0f921"
             ]
            ],
            "type": "heatmap"
           }
          ],
          "heatmapgl": [
           {
            "colorbar": {
             "outlinewidth": 0,
             "ticks": ""
            },
            "colorscale": [
             [
              0,
              "#0d0887"
             ],
             [
              0.1111111111111111,
              "#46039f"
             ],
             [
              0.2222222222222222,
              "#7201a8"
             ],
             [
              0.3333333333333333,
              "#9c179e"
             ],
             [
              0.4444444444444444,
              "#bd3786"
             ],
             [
              0.5555555555555556,
              "#d8576b"
             ],
             [
              0.6666666666666666,
              "#ed7953"
             ],
             [
              0.7777777777777778,
              "#fb9f3a"
             ],
             [
              0.8888888888888888,
              "#fdca26"
             ],
             [
              1,
              "#f0f921"
             ]
            ],
            "type": "heatmapgl"
           }
          ],
          "histogram": [
           {
            "marker": {
             "colorbar": {
              "outlinewidth": 0,
              "ticks": ""
             }
            },
            "type": "histogram"
           }
          ],
          "histogram2d": [
           {
            "colorbar": {
             "outlinewidth": 0,
             "ticks": ""
            },
            "colorscale": [
             [
              0,
              "#0d0887"
             ],
             [
              0.1111111111111111,
              "#46039f"
             ],
             [
              0.2222222222222222,
              "#7201a8"
             ],
             [
              0.3333333333333333,
              "#9c179e"
             ],
             [
              0.4444444444444444,
              "#bd3786"
             ],
             [
              0.5555555555555556,
              "#d8576b"
             ],
             [
              0.6666666666666666,
              "#ed7953"
             ],
             [
              0.7777777777777778,
              "#fb9f3a"
             ],
             [
              0.8888888888888888,
              "#fdca26"
             ],
             [
              1,
              "#f0f921"
             ]
            ],
            "type": "histogram2d"
           }
          ],
          "histogram2dcontour": [
           {
            "colorbar": {
             "outlinewidth": 0,
             "ticks": ""
            },
            "colorscale": [
             [
              0,
              "#0d0887"
             ],
             [
              0.1111111111111111,
              "#46039f"
             ],
             [
              0.2222222222222222,
              "#7201a8"
             ],
             [
              0.3333333333333333,
              "#9c179e"
             ],
             [
              0.4444444444444444,
              "#bd3786"
             ],
             [
              0.5555555555555556,
              "#d8576b"
             ],
             [
              0.6666666666666666,
              "#ed7953"
             ],
             [
              0.7777777777777778,
              "#fb9f3a"
             ],
             [
              0.8888888888888888,
              "#fdca26"
             ],
             [
              1,
              "#f0f921"
             ]
            ],
            "type": "histogram2dcontour"
           }
          ],
          "mesh3d": [
           {
            "colorbar": {
             "outlinewidth": 0,
             "ticks": ""
            },
            "type": "mesh3d"
           }
          ],
          "parcoords": [
           {
            "line": {
             "colorbar": {
              "outlinewidth": 0,
              "ticks": ""
             }
            },
            "type": "parcoords"
           }
          ],
          "pie": [
           {
            "automargin": true,
            "type": "pie"
           }
          ],
          "scatter": [
           {
            "marker": {
             "colorbar": {
              "outlinewidth": 0,
              "ticks": ""
             }
            },
            "type": "scatter"
           }
          ],
          "scatter3d": [
           {
            "line": {
             "colorbar": {
              "outlinewidth": 0,
              "ticks": ""
             }
            },
            "marker": {
             "colorbar": {
              "outlinewidth": 0,
              "ticks": ""
             }
            },
            "type": "scatter3d"
           }
          ],
          "scattercarpet": [
           {
            "marker": {
             "colorbar": {
              "outlinewidth": 0,
              "ticks": ""
             }
            },
            "type": "scattercarpet"
           }
          ],
          "scattergeo": [
           {
            "marker": {
             "colorbar": {
              "outlinewidth": 0,
              "ticks": ""
             }
            },
            "type": "scattergeo"
           }
          ],
          "scattergl": [
           {
            "marker": {
             "colorbar": {
              "outlinewidth": 0,
              "ticks": ""
             }
            },
            "type": "scattergl"
           }
          ],
          "scattermapbox": [
           {
            "marker": {
             "colorbar": {
              "outlinewidth": 0,
              "ticks": ""
             }
            },
            "type": "scattermapbox"
           }
          ],
          "scatterpolar": [
           {
            "marker": {
             "colorbar": {
              "outlinewidth": 0,
              "ticks": ""
             }
            },
            "type": "scatterpolar"
           }
          ],
          "scatterpolargl": [
           {
            "marker": {
             "colorbar": {
              "outlinewidth": 0,
              "ticks": ""
             }
            },
            "type": "scatterpolargl"
           }
          ],
          "scatterternary": [
           {
            "marker": {
             "colorbar": {
              "outlinewidth": 0,
              "ticks": ""
             }
            },
            "type": "scatterternary"
           }
          ],
          "surface": [
           {
            "colorbar": {
             "outlinewidth": 0,
             "ticks": ""
            },
            "colorscale": [
             [
              0,
              "#0d0887"
             ],
             [
              0.1111111111111111,
              "#46039f"
             ],
             [
              0.2222222222222222,
              "#7201a8"
             ],
             [
              0.3333333333333333,
              "#9c179e"
             ],
             [
              0.4444444444444444,
              "#bd3786"
             ],
             [
              0.5555555555555556,
              "#d8576b"
             ],
             [
              0.6666666666666666,
              "#ed7953"
             ],
             [
              0.7777777777777778,
              "#fb9f3a"
             ],
             [
              0.8888888888888888,
              "#fdca26"
             ],
             [
              1,
              "#f0f921"
             ]
            ],
            "type": "surface"
           }
          ],
          "table": [
           {
            "cells": {
             "fill": {
              "color": "#EBF0F8"
             },
             "line": {
              "color": "white"
             }
            },
            "header": {
             "fill": {
              "color": "#C8D4E3"
             },
             "line": {
              "color": "white"
             }
            },
            "type": "table"
           }
          ]
         },
         "layout": {
          "annotationdefaults": {
           "arrowcolor": "#2a3f5f",
           "arrowhead": 0,
           "arrowwidth": 1
          },
          "coloraxis": {
           "colorbar": {
            "outlinewidth": 0,
            "ticks": ""
           }
          },
          "colorscale": {
           "diverging": [
            [
             0,
             "#8e0152"
            ],
            [
             0.1,
             "#c51b7d"
            ],
            [
             0.2,
             "#de77ae"
            ],
            [
             0.3,
             "#f1b6da"
            ],
            [
             0.4,
             "#fde0ef"
            ],
            [
             0.5,
             "#f7f7f7"
            ],
            [
             0.6,
             "#e6f5d0"
            ],
            [
             0.7,
             "#b8e186"
            ],
            [
             0.8,
             "#7fbc41"
            ],
            [
             0.9,
             "#4d9221"
            ],
            [
             1,
             "#276419"
            ]
           ],
           "sequential": [
            [
             0,
             "#0d0887"
            ],
            [
             0.1111111111111111,
             "#46039f"
            ],
            [
             0.2222222222222222,
             "#7201a8"
            ],
            [
             0.3333333333333333,
             "#9c179e"
            ],
            [
             0.4444444444444444,
             "#bd3786"
            ],
            [
             0.5555555555555556,
             "#d8576b"
            ],
            [
             0.6666666666666666,
             "#ed7953"
            ],
            [
             0.7777777777777778,
             "#fb9f3a"
            ],
            [
             0.8888888888888888,
             "#fdca26"
            ],
            [
             1,
             "#f0f921"
            ]
           ],
           "sequentialminus": [
            [
             0,
             "#0d0887"
            ],
            [
             0.1111111111111111,
             "#46039f"
            ],
            [
             0.2222222222222222,
             "#7201a8"
            ],
            [
             0.3333333333333333,
             "#9c179e"
            ],
            [
             0.4444444444444444,
             "#bd3786"
            ],
            [
             0.5555555555555556,
             "#d8576b"
            ],
            [
             0.6666666666666666,
             "#ed7953"
            ],
            [
             0.7777777777777778,
             "#fb9f3a"
            ],
            [
             0.8888888888888888,
             "#fdca26"
            ],
            [
             1,
             "#f0f921"
            ]
           ]
          },
          "colorway": [
           "#636efa",
           "#EF553B",
           "#00cc96",
           "#ab63fa",
           "#FFA15A",
           "#19d3f3",
           "#FF6692",
           "#B6E880",
           "#FF97FF",
           "#FECB52"
          ],
          "font": {
           "color": "#2a3f5f"
          },
          "geo": {
           "bgcolor": "white",
           "lakecolor": "white",
           "landcolor": "#E5ECF6",
           "showlakes": true,
           "showland": true,
           "subunitcolor": "white"
          },
          "hoverlabel": {
           "align": "left"
          },
          "hovermode": "closest",
          "mapbox": {
           "style": "light"
          },
          "paper_bgcolor": "white",
          "plot_bgcolor": "#E5ECF6",
          "polar": {
           "angularaxis": {
            "gridcolor": "white",
            "linecolor": "white",
            "ticks": ""
           },
           "bgcolor": "#E5ECF6",
           "radialaxis": {
            "gridcolor": "white",
            "linecolor": "white",
            "ticks": ""
           }
          },
          "scene": {
           "xaxis": {
            "backgroundcolor": "#E5ECF6",
            "gridcolor": "white",
            "gridwidth": 2,
            "linecolor": "white",
            "showbackground": true,
            "ticks": "",
            "zerolinecolor": "white"
           },
           "yaxis": {
            "backgroundcolor": "#E5ECF6",
            "gridcolor": "white",
            "gridwidth": 2,
            "linecolor": "white",
            "showbackground": true,
            "ticks": "",
            "zerolinecolor": "white"
           },
           "zaxis": {
            "backgroundcolor": "#E5ECF6",
            "gridcolor": "white",
            "gridwidth": 2,
            "linecolor": "white",
            "showbackground": true,
            "ticks": "",
            "zerolinecolor": "white"
           }
          },
          "shapedefaults": {
           "line": {
            "color": "#2a3f5f"
           }
          },
          "ternary": {
           "aaxis": {
            "gridcolor": "white",
            "linecolor": "white",
            "ticks": ""
           },
           "baxis": {
            "gridcolor": "white",
            "linecolor": "white",
            "ticks": ""
           },
           "bgcolor": "#E5ECF6",
           "caxis": {
            "gridcolor": "white",
            "linecolor": "white",
            "ticks": ""
           }
          },
          "title": {
           "x": 0.05
          },
          "xaxis": {
           "automargin": true,
           "gridcolor": "white",
           "linecolor": "white",
           "ticks": "",
           "title": {
            "standoff": 15
           },
           "zerolinecolor": "white",
           "zerolinewidth": 2
          },
          "yaxis": {
           "automargin": true,
           "gridcolor": "white",
           "linecolor": "white",
           "ticks": "",
           "title": {
            "standoff": 15
           },
           "zerolinecolor": "white",
           "zerolinewidth": 2
          }
         }
        },
        "title": {
         "text": "Encoded->Decoded Data Chunk"
        },
        "xaxis": {
         "rangeslider": {
          "visible": true
         }
        },
        "yaxis": {
         "fixedrange": false
        }
       }
      },
      "text/html": [
       "<div>\n",
       "        \n",
       "        \n",
       "            <div id=\"53fe0200-d3c8-414f-8ff3-9a8f7402e079\" class=\"plotly-graph-div\" style=\"height:525px; width:100%;\"></div>\n",
       "            <script type=\"text/javascript\">\n",
       "                require([\"plotly\"], function(Plotly) {\n",
       "                    window.PLOTLYENV=window.PLOTLYENV || {};\n",
       "                    \n",
       "                if (document.getElementById(\"53fe0200-d3c8-414f-8ff3-9a8f7402e079\")) {\n",
       "                    Plotly.newPlot(\n",
       "                        '53fe0200-d3c8-414f-8ff3-9a8f7402e079',\n",
       "                        [{\"close\": [0.5145524144172668, 0.5746981501579285, 0.7117565870285034, 0.7998110055923462, 0.7808182239532471, 0.7648639678955078, 0.7681026458740234, 0.7671059370040894, 0.7731930017471313, 0.7903734445571899, 0.7285609245300293, 0.7141380310058594, 0.7297910451889038, 0.7069404125213623, 0.6685153841972351, 0.5740069150924683, 0.24480849504470825, 0.1726992428302765, 0.15938834846019745, 0.16759011149406433, 0.1967245638370514, 0.2124210149049759, 0.27170050144195557, 0.5405828356742859, 0.5875874161720276, 0.6198775768280029, 0.646238386631012, 0.6625074744224548, 0.6664876341819763, 0.8137871026992798, 0.8513708114624023, 0.8922690153121948, 0.9219785928726196, 0.9062819480895996, 0.9171863794326782, 0.8958389759063721, 0.877324640750885, 0.8753873109817505, 0.8659236431121826, 0.8828010559082031], \"high\": [0.5577356219291687, 0.6117547154426575, 0.7927459478378296, 0.828805148601532, 0.8311566710472107, 0.8253488540649414, 0.8150007724761963, 0.8174265623092651, 0.8237154483795166, 0.9383045434951782, 0.832933783531189, 0.7811415195465088, 0.8032209277153015, 0.7694083452224731, 0.7404575347900391, 0.6806315183639526, 0.4881590008735657, 0.29446226358413696, 0.26108506321907043, 0.25277331471443176, 0.2601798176765442, 0.2743940055370331, 0.3260307312011719, 0.6159299612045288, 0.6358999609947205, 0.6757296323776245, 0.6919516324996948, 0.7028226852416992, 0.7018914818763733, 0.8266710042953491, 0.969459056854248, 0.9594265222549438, 0.9694739580154419, 0.9609565734863281, 0.9666457176208496, 0.9455822706222534, 0.9396989941596985, 0.97850501537323, 0.9123570919036865, 0.9290910959243774], \"low\": [0.4516904354095459, 0.4876759648323059, 0.5196812152862549, 0.697523295879364, 0.7176549434661865, 0.6940028071403503, 0.7224757671356201, 0.7192218899726868, 0.7192347049713135, 0.651791512966156, 0.6697851419448853, 0.6555444598197937, 0.6713666319847107, 0.6629825830459595, 0.6316725015640259, 0.5182246565818787, 0.14537322521209717, 0.08382548391819, 0.08066985011100769, 0.09099416434764862, 0.13428199291229248, 0.14718881249427795, 0.16446846723556519, 0.3251193165779114, 0.49171578884124756, 0.5434653759002686, 0.5798361897468567, 0.6043054461479187, 0.596464991569519, 0.709513247013092, 0.7125402688980103, 0.8160393238067627, 0.8518792390823364, 0.8447260856628418, 0.8614391088485718, 0.8557106256484985, 0.8337051868438721, 0.7565765380859375, 0.8083568215370178, 0.8306552767753601], \"open\": [0.4997257888317108, 0.5314674377441406, 0.633823812007904, 0.7417019605636597, 0.7808162569999695, 0.7660213708877563, 0.7725844383239746, 0.7672324180603027, 0.7725563049316406, 0.8114140033721924, 0.7768624424934387, 0.7269753217697144, 0.7458036541938782, 0.7243826389312744, 0.7016993761062622, 0.6159749031066895, 0.40043336153030396, 0.213058739900589, 0.17755477130413055, 0.16937068104743958, 0.18654440343379974, 0.19673381745815277, 0.2231009602546692, 0.4059050381183624, 0.5429196357727051, 0.5936582684516907, 0.6321768760681152, 0.6435495615005493, 0.6384313702583313, 0.7254205346107483, 0.8324240446090698, 0.8750349283218384, 0.8992491364479065, 0.9131062626838684, 0.9178265333175659, 0.9162874221801758, 0.8964175581932068, 0.8799436092376709, 0.8615259528160095, 0.8839668035507202], \"type\": \"candlestick\"}],\n",
       "                        {\"template\": {\"data\": {\"bar\": [{\"error_x\": {\"color\": \"#2a3f5f\"}, \"error_y\": {\"color\": \"#2a3f5f\"}, \"marker\": {\"line\": {\"color\": \"#E5ECF6\", \"width\": 0.5}}, \"type\": \"bar\"}], \"barpolar\": [{\"marker\": {\"line\": {\"color\": \"#E5ECF6\", \"width\": 0.5}}, \"type\": \"barpolar\"}], \"carpet\": [{\"aaxis\": {\"endlinecolor\": \"#2a3f5f\", \"gridcolor\": \"white\", \"linecolor\": \"white\", \"minorgridcolor\": \"white\", \"startlinecolor\": \"#2a3f5f\"}, \"baxis\": {\"endlinecolor\": \"#2a3f5f\", \"gridcolor\": \"white\", \"linecolor\": \"white\", \"minorgridcolor\": \"white\", \"startlinecolor\": \"#2a3f5f\"}, \"type\": \"carpet\"}], \"choropleth\": [{\"colorbar\": {\"outlinewidth\": 0, \"ticks\": \"\"}, \"type\": \"choropleth\"}], \"contour\": [{\"colorbar\": {\"outlinewidth\": 0, \"ticks\": \"\"}, \"colorscale\": [[0.0, \"#0d0887\"], [0.1111111111111111, \"#46039f\"], [0.2222222222222222, \"#7201a8\"], [0.3333333333333333, \"#9c179e\"], [0.4444444444444444, \"#bd3786\"], [0.5555555555555556, \"#d8576b\"], [0.6666666666666666, \"#ed7953\"], [0.7777777777777778, \"#fb9f3a\"], [0.8888888888888888, \"#fdca26\"], [1.0, \"#f0f921\"]], \"type\": \"contour\"}], \"contourcarpet\": [{\"colorbar\": {\"outlinewidth\": 0, \"ticks\": \"\"}, \"type\": \"contourcarpet\"}], \"heatmap\": [{\"colorbar\": {\"outlinewidth\": 0, \"ticks\": \"\"}, \"colorscale\": [[0.0, \"#0d0887\"], [0.1111111111111111, \"#46039f\"], [0.2222222222222222, \"#7201a8\"], [0.3333333333333333, \"#9c179e\"], [0.4444444444444444, \"#bd3786\"], [0.5555555555555556, \"#d8576b\"], [0.6666666666666666, \"#ed7953\"], [0.7777777777777778, \"#fb9f3a\"], [0.8888888888888888, \"#fdca26\"], [1.0, \"#f0f921\"]], \"type\": \"heatmap\"}], \"heatmapgl\": [{\"colorbar\": {\"outlinewidth\": 0, \"ticks\": \"\"}, \"colorscale\": [[0.0, \"#0d0887\"], [0.1111111111111111, \"#46039f\"], [0.2222222222222222, \"#7201a8\"], [0.3333333333333333, \"#9c179e\"], [0.4444444444444444, \"#bd3786\"], [0.5555555555555556, \"#d8576b\"], [0.6666666666666666, \"#ed7953\"], [0.7777777777777778, \"#fb9f3a\"], [0.8888888888888888, \"#fdca26\"], [1.0, \"#f0f921\"]], \"type\": \"heatmapgl\"}], \"histogram\": [{\"marker\": {\"colorbar\": {\"outlinewidth\": 0, \"ticks\": \"\"}}, \"type\": \"histogram\"}], \"histogram2d\": [{\"colorbar\": {\"outlinewidth\": 0, \"ticks\": \"\"}, \"colorscale\": [[0.0, \"#0d0887\"], [0.1111111111111111, \"#46039f\"], [0.2222222222222222, \"#7201a8\"], [0.3333333333333333, \"#9c179e\"], [0.4444444444444444, \"#bd3786\"], [0.5555555555555556, \"#d8576b\"], [0.6666666666666666, \"#ed7953\"], [0.7777777777777778, \"#fb9f3a\"], [0.8888888888888888, \"#fdca26\"], [1.0, \"#f0f921\"]], \"type\": \"histogram2d\"}], \"histogram2dcontour\": [{\"colorbar\": {\"outlinewidth\": 0, \"ticks\": \"\"}, \"colorscale\": [[0.0, \"#0d0887\"], [0.1111111111111111, \"#46039f\"], [0.2222222222222222, \"#7201a8\"], [0.3333333333333333, \"#9c179e\"], [0.4444444444444444, \"#bd3786\"], [0.5555555555555556, \"#d8576b\"], [0.6666666666666666, \"#ed7953\"], [0.7777777777777778, \"#fb9f3a\"], [0.8888888888888888, \"#fdca26\"], [1.0, \"#f0f921\"]], \"type\": \"histogram2dcontour\"}], \"mesh3d\": [{\"colorbar\": {\"outlinewidth\": 0, \"ticks\": \"\"}, \"type\": \"mesh3d\"}], \"parcoords\": [{\"line\": {\"colorbar\": {\"outlinewidth\": 0, \"ticks\": \"\"}}, \"type\": \"parcoords\"}], \"pie\": [{\"automargin\": true, \"type\": \"pie\"}], \"scatter\": [{\"marker\": {\"colorbar\": {\"outlinewidth\": 0, \"ticks\": \"\"}}, \"type\": \"scatter\"}], \"scatter3d\": [{\"line\": {\"colorbar\": {\"outlinewidth\": 0, \"ticks\": \"\"}}, \"marker\": {\"colorbar\": {\"outlinewidth\": 0, \"ticks\": \"\"}}, \"type\": \"scatter3d\"}], \"scattercarpet\": [{\"marker\": {\"colorbar\": {\"outlinewidth\": 0, \"ticks\": \"\"}}, \"type\": \"scattercarpet\"}], \"scattergeo\": [{\"marker\": {\"colorbar\": {\"outlinewidth\": 0, \"ticks\": \"\"}}, \"type\": \"scattergeo\"}], \"scattergl\": [{\"marker\": {\"colorbar\": {\"outlinewidth\": 0, \"ticks\": \"\"}}, \"type\": \"scattergl\"}], \"scattermapbox\": [{\"marker\": {\"colorbar\": {\"outlinewidth\": 0, \"ticks\": \"\"}}, \"type\": \"scattermapbox\"}], \"scatterpolar\": [{\"marker\": {\"colorbar\": {\"outlinewidth\": 0, \"ticks\": \"\"}}, \"type\": \"scatterpolar\"}], \"scatterpolargl\": [{\"marker\": {\"colorbar\": {\"outlinewidth\": 0, \"ticks\": \"\"}}, \"type\": \"scatterpolargl\"}], \"scatterternary\": [{\"marker\": {\"colorbar\": {\"outlinewidth\": 0, \"ticks\": \"\"}}, \"type\": \"scatterternary\"}], \"surface\": [{\"colorbar\": {\"outlinewidth\": 0, \"ticks\": \"\"}, \"colorscale\": [[0.0, \"#0d0887\"], [0.1111111111111111, \"#46039f\"], [0.2222222222222222, \"#7201a8\"], [0.3333333333333333, \"#9c179e\"], [0.4444444444444444, \"#bd3786\"], [0.5555555555555556, \"#d8576b\"], [0.6666666666666666, \"#ed7953\"], [0.7777777777777778, \"#fb9f3a\"], [0.8888888888888888, \"#fdca26\"], [1.0, \"#f0f921\"]], \"type\": \"surface\"}], \"table\": [{\"cells\": {\"fill\": {\"color\": \"#EBF0F8\"}, \"line\": {\"color\": \"white\"}}, \"header\": {\"fill\": {\"color\": \"#C8D4E3\"}, \"line\": {\"color\": \"white\"}}, \"type\": \"table\"}]}, \"layout\": {\"annotationdefaults\": {\"arrowcolor\": \"#2a3f5f\", \"arrowhead\": 0, \"arrowwidth\": 1}, \"coloraxis\": {\"colorbar\": {\"outlinewidth\": 0, \"ticks\": \"\"}}, \"colorscale\": {\"diverging\": [[0, \"#8e0152\"], [0.1, \"#c51b7d\"], [0.2, \"#de77ae\"], [0.3, \"#f1b6da\"], [0.4, \"#fde0ef\"], [0.5, \"#f7f7f7\"], [0.6, \"#e6f5d0\"], [0.7, \"#b8e186\"], [0.8, \"#7fbc41\"], [0.9, \"#4d9221\"], [1, \"#276419\"]], \"sequential\": [[0.0, \"#0d0887\"], [0.1111111111111111, \"#46039f\"], [0.2222222222222222, \"#7201a8\"], [0.3333333333333333, \"#9c179e\"], [0.4444444444444444, \"#bd3786\"], [0.5555555555555556, \"#d8576b\"], [0.6666666666666666, \"#ed7953\"], [0.7777777777777778, \"#fb9f3a\"], [0.8888888888888888, \"#fdca26\"], [1.0, \"#f0f921\"]], \"sequentialminus\": [[0.0, \"#0d0887\"], [0.1111111111111111, \"#46039f\"], [0.2222222222222222, \"#7201a8\"], [0.3333333333333333, \"#9c179e\"], [0.4444444444444444, \"#bd3786\"], [0.5555555555555556, \"#d8576b\"], [0.6666666666666666, \"#ed7953\"], [0.7777777777777778, \"#fb9f3a\"], [0.8888888888888888, \"#fdca26\"], [1.0, \"#f0f921\"]]}, \"colorway\": [\"#636efa\", \"#EF553B\", \"#00cc96\", \"#ab63fa\", \"#FFA15A\", \"#19d3f3\", \"#FF6692\", \"#B6E880\", \"#FF97FF\", \"#FECB52\"], \"font\": {\"color\": \"#2a3f5f\"}, \"geo\": {\"bgcolor\": \"white\", \"lakecolor\": \"white\", \"landcolor\": \"#E5ECF6\", \"showlakes\": true, \"showland\": true, \"subunitcolor\": \"white\"}, \"hoverlabel\": {\"align\": \"left\"}, \"hovermode\": \"closest\", \"mapbox\": {\"style\": \"light\"}, \"paper_bgcolor\": \"white\", \"plot_bgcolor\": \"#E5ECF6\", \"polar\": {\"angularaxis\": {\"gridcolor\": \"white\", \"linecolor\": \"white\", \"ticks\": \"\"}, \"bgcolor\": \"#E5ECF6\", \"radialaxis\": {\"gridcolor\": \"white\", \"linecolor\": \"white\", \"ticks\": \"\"}}, \"scene\": {\"xaxis\": {\"backgroundcolor\": \"#E5ECF6\", \"gridcolor\": \"white\", \"gridwidth\": 2, \"linecolor\": \"white\", \"showbackground\": true, \"ticks\": \"\", \"zerolinecolor\": \"white\"}, \"yaxis\": {\"backgroundcolor\": \"#E5ECF6\", \"gridcolor\": \"white\", \"gridwidth\": 2, \"linecolor\": \"white\", \"showbackground\": true, \"ticks\": \"\", \"zerolinecolor\": \"white\"}, \"zaxis\": {\"backgroundcolor\": \"#E5ECF6\", \"gridcolor\": \"white\", \"gridwidth\": 2, \"linecolor\": \"white\", \"showbackground\": true, \"ticks\": \"\", \"zerolinecolor\": \"white\"}}, \"shapedefaults\": {\"line\": {\"color\": \"#2a3f5f\"}}, \"ternary\": {\"aaxis\": {\"gridcolor\": \"white\", \"linecolor\": \"white\", \"ticks\": \"\"}, \"baxis\": {\"gridcolor\": \"white\", \"linecolor\": \"white\", \"ticks\": \"\"}, \"bgcolor\": \"#E5ECF6\", \"caxis\": {\"gridcolor\": \"white\", \"linecolor\": \"white\", \"ticks\": \"\"}}, \"title\": {\"x\": 0.05}, \"xaxis\": {\"automargin\": true, \"gridcolor\": \"white\", \"linecolor\": \"white\", \"ticks\": \"\", \"title\": {\"standoff\": 15}, \"zerolinecolor\": \"white\", \"zerolinewidth\": 2}, \"yaxis\": {\"automargin\": true, \"gridcolor\": \"white\", \"linecolor\": \"white\", \"ticks\": \"\", \"title\": {\"standoff\": 15}, \"zerolinecolor\": \"white\", \"zerolinewidth\": 2}}}, \"title\": {\"text\": \"Encoded->Decoded Data Chunk\"}, \"xaxis\": {\"rangeslider\": {\"visible\": true}}, \"yaxis\": {\"fixedrange\": false}},\n",
       "                        {\"responsive\": true}\n",
       "                    ).then(function(){\n",
       "                            \n",
       "var gd = document.getElementById('53fe0200-d3c8-414f-8ff3-9a8f7402e079');\n",
       "var x = new MutationObserver(function (mutations, observer) {{\n",
       "        var display = window.getComputedStyle(gd).display;\n",
       "        if (!display || display === 'none') {{\n",
       "            console.log([gd, 'removed!']);\n",
       "            Plotly.purge(gd);\n",
       "            observer.disconnect();\n",
       "        }}\n",
       "}});\n",
       "\n",
       "// Listen for the removal of the full notebook cells\n",
       "var notebookContainer = gd.closest('#notebook-container');\n",
       "if (notebookContainer) {{\n",
       "    x.observe(notebookContainer, {childList: true});\n",
       "}}\n",
       "\n",
       "// Listen for the clearing of the current output cell\n",
       "var outputEl = gd.closest('.output');\n",
       "if (outputEl) {{\n",
       "    x.observe(outputEl, {childList: true});\n",
       "}}\n",
       "\n",
       "                        })\n",
       "                };\n",
       "                });\n",
       "            </script>\n",
       "        </div>"
      ]
     },
     "metadata": {},
     "output_type": "display_data"
    }
   ],
   "source": [
    "fig = go.Figure(data=[go.Candlestick(\n",
    "    open=decoded_batch[batch_idx][:, 0].detach().cpu(), high=decoded_batch[batch_idx][:, 1].detach().cpu(),\n",
    "    low=decoded_batch[batch_idx][:, 2].detach().cpu(), close=decoded_batch[batch_idx][:, 3].detach().cpu())])\n",
    "\n",
    "fig.update_layout(\n",
    "                  title='Encoded->Decoded Data Chunk',\n",
    "                  xaxis_rangeslider_visible=True,\n",
    "                  yaxis_fixedrange=False,\n",
    "                 )\n"
   ]
  },
  {
   "cell_type": "code",
   "execution_count": 49,
   "metadata": {
    "pycharm": {
     "name": "#%%\n"
    }
   },
   "outputs": [
    {
     "name": "stdout",
     "output_type": "stream",
     "text": [
      "Compression: 5.0 %\n"
     ]
    }
   ],
   "source": [
    "print(f'Compression: {compression_ratio * 100} %')"
   ]
  },
  {
   "cell_type": "markdown",
   "metadata": {
    "pycharm": {
     "name": "#%% md\n"
    }
   },
   "source": [
    "# Conclusion\n",
    "* Forcing the encoder to represent input data with only 5% of the original input size, the results above can be achieved.\n",
    "* Obviously, this is lossful compression, but it seems overall direction and many defining features are preserved."
   ]
  }
 ],
 "metadata": {
  "kernelspec": {
   "display_name": "PyCharm (unsupervised_encoder_decoder)",
   "language": "python",
   "name": "pycharm-862d0bb6"
  },
  "language_info": {
   "codemirror_mode": {
    "name": "ipython",
    "version": 3
   },
   "file_extension": ".py",
   "mimetype": "text/x-python",
   "name": "python",
   "nbconvert_exporter": "python",
   "pygments_lexer": "ipython3",
   "version": "3.6.10"
  }
 },
 "nbformat": 4,
 "nbformat_minor": 1
}